{
 "cells": [
  {
   "cell_type": "markdown",
   "metadata": {
    "papermill": {
     "duration": 0.043592,
     "end_time": "2021-02-14T16:50:07.521411",
     "exception": false,
     "start_time": "2021-02-14T16:50:07.477819",
     "status": "completed"
    },
    "tags": []
   },
   "source": [
    "# Titanic Project Example Walk Through\n"
   ]
  },
  {
   "cell_type": "markdown",
   "metadata": {
    "papermill": {
     "duration": 0.037227,
     "end_time": "2021-02-14T16:50:07.598414",
     "exception": false,
     "start_time": "2021-02-14T16:50:07.561187",
     "status": "completed"
    },
    "tags": []
   },
   "source": [
    "Welcome to this Titanic project. This is my first kernel at Kaggle. In this notebook, I'm going to predict wether a passenger of the famous boat will survive or not. Firstly, I will display some feature analyses then ill focus on the feature engineering. Last part concerns modeling and predicting the survival on the Titanic using an voting procedure. If you find a way to improve it I encourage you to fork this notebook and contribute by adding a better solution. "
   ]
  },
  {
   "cell_type": "markdown",
   "metadata": {
    "papermill": {
     "duration": 0.036172,
     "end_time": "2021-02-14T16:50:07.671339",
     "exception": false,
     "start_time": "2021-02-14T16:50:07.635167",
     "status": "completed"
    },
    "tags": []
   },
   "source": [
    "# Import libraries"
   ]
  },
  {
   "cell_type": "code",
   "execution_count": 1,
   "metadata": {
    "_cell_guid": "b1076dfc-b9ad-4769-8c92-a6c4dae69d19",
    "_uuid": "8f2839f25d086af736a60e9eeb907d3b93b6e0e5",
    "execution": {
     "iopub.execute_input": "2021-02-14T16:50:07.757899Z",
     "iopub.status.busy": "2021-02-14T16:50:07.756474Z",
     "iopub.status.idle": "2021-02-14T16:50:09.147924Z",
     "shell.execute_reply": "2021-02-14T16:50:09.146873Z"
    },
    "papermill": {
     "duration": 1.439419,
     "end_time": "2021-02-14T16:50:09.148203",
     "exception": false,
     "start_time": "2021-02-14T16:50:07.708784",
     "status": "completed"
    },
    "tags": []
   },
   "outputs": [
    {
     "name": "stdout",
     "output_type": "stream",
     "text": [
      "/kaggle/input/titanic/train.csv\n",
      "/kaggle/input/titanic/test.csv\n",
      "/kaggle/input/titanic/gender_submission.csv\n"
     ]
    }
   ],
   "source": [
    "# This Python 3 environment comes with many helpful analytics libraries installed\n",
    "# It is defined by the kaggle/python Docker image: https://github.com/kaggle/docker-python\n",
    "# For example, here's several helpful packages to load\n",
    "\n",
    "import numpy as np # linear algebra\n",
    "import pandas as pd # data processing, CSV file I/O (e.g. pd.read_csv)\n",
    "\n",
    "# import data viz libraires\n",
    "import seaborn as sns\n",
    "from matplotlib import pyplot as plt\n",
    "from matplotlib import style\n",
    "\n",
    "# Ignore warnings\n",
    "import warnings\n",
    "warnings.filterwarnings('ignore')\n",
    "\n",
    "#import algorithms\n",
    "from sklearn import linear_model\n",
    "from sklearn.linear_model import LogisticRegression\n",
    "from sklearn.ensemble import RandomForestClassifier\n",
    "from sklearn.linear_model import Perceptron\n",
    "from sklearn.linear_model import SGDClassifier\n",
    "from sklearn.tree import DecisionTreeClassifier\n",
    "from sklearn.neighbors import KNeighborsClassifier\n",
    "from sklearn.svm import SVC, LinearSVC\n",
    "from sklearn.naive_bayes import GaussianNB\n",
    "from sklearn.preprocessing import StandardScaler\n",
    "\n",
    "from IPython.display import display\n",
    "\n",
    "\n",
    "# Input data files are available in the read-only \"../input/\" directory\n",
    "# For example, running this (by clicking run or pressing Shift+Enter) will list all files under the input directory\n",
    "\n",
    "import os\n",
    "for dirname, _, filenames in os.walk('/kaggle/input'):\n",
    "    for filename in filenames:\n",
    "        print(os.path.join(dirname, filename))\n",
    "\n",
    "# You can write up to 20GB to the current directory (/kaggle/working/) that gets preserved as output when you create a version using \"Save & Run All\" \n",
    "# You can also write temporary files to /kaggle/temp/, but they won't be saved outside of the current session"
   ]
  },
  {
   "cell_type": "markdown",
   "metadata": {
    "papermill": {
     "duration": 0.03754,
     "end_time": "2021-02-14T16:50:09.224510",
     "exception": false,
     "start_time": "2021-02-14T16:50:09.186970",
     "status": "completed"
    },
    "tags": []
   },
   "source": [
    "# Data Exploration"
   ]
  },
  {
   "cell_type": "code",
   "execution_count": 2,
   "metadata": {
    "execution": {
     "iopub.execute_input": "2021-02-14T16:50:09.306839Z",
     "iopub.status.busy": "2021-02-14T16:50:09.305952Z",
     "iopub.status.idle": "2021-02-14T16:50:09.369882Z",
     "shell.execute_reply": "2021-02-14T16:50:09.370403Z"
    },
    "papermill": {
     "duration": 0.108337,
     "end_time": "2021-02-14T16:50:09.370598",
     "exception": false,
     "start_time": "2021-02-14T16:50:09.262261",
     "status": "completed"
    },
    "tags": []
   },
   "outputs": [
    {
     "data": {
      "text/html": [
       "<div>\n",
       "<style scoped>\n",
       "    .dataframe tbody tr th:only-of-type {\n",
       "        vertical-align: middle;\n",
       "    }\n",
       "\n",
       "    .dataframe tbody tr th {\n",
       "        vertical-align: top;\n",
       "    }\n",
       "\n",
       "    .dataframe thead th {\n",
       "        text-align: right;\n",
       "    }\n",
       "</style>\n",
       "<table border=\"1\" class=\"dataframe\">\n",
       "  <thead>\n",
       "    <tr style=\"text-align: right;\">\n",
       "      <th></th>\n",
       "      <th>PassengerId</th>\n",
       "      <th>Survived</th>\n",
       "      <th>Pclass</th>\n",
       "      <th>Name</th>\n",
       "      <th>Sex</th>\n",
       "      <th>Age</th>\n",
       "      <th>SibSp</th>\n",
       "      <th>Parch</th>\n",
       "      <th>Ticket</th>\n",
       "      <th>Fare</th>\n",
       "      <th>Cabin</th>\n",
       "      <th>Embarked</th>\n",
       "    </tr>\n",
       "  </thead>\n",
       "  <tbody>\n",
       "    <tr>\n",
       "      <th>0</th>\n",
       "      <td>1</td>\n",
       "      <td>0</td>\n",
       "      <td>3</td>\n",
       "      <td>Braund, Mr. Owen Harris</td>\n",
       "      <td>male</td>\n",
       "      <td>22.0</td>\n",
       "      <td>1</td>\n",
       "      <td>0</td>\n",
       "      <td>A/5 21171</td>\n",
       "      <td>7.2500</td>\n",
       "      <td>NaN</td>\n",
       "      <td>S</td>\n",
       "    </tr>\n",
       "    <tr>\n",
       "      <th>1</th>\n",
       "      <td>2</td>\n",
       "      <td>1</td>\n",
       "      <td>1</td>\n",
       "      <td>Cumings, Mrs. John Bradley (Florence Briggs Th...</td>\n",
       "      <td>female</td>\n",
       "      <td>38.0</td>\n",
       "      <td>1</td>\n",
       "      <td>0</td>\n",
       "      <td>PC 17599</td>\n",
       "      <td>71.2833</td>\n",
       "      <td>C85</td>\n",
       "      <td>C</td>\n",
       "    </tr>\n",
       "    <tr>\n",
       "      <th>2</th>\n",
       "      <td>3</td>\n",
       "      <td>1</td>\n",
       "      <td>3</td>\n",
       "      <td>Heikkinen, Miss. Laina</td>\n",
       "      <td>female</td>\n",
       "      <td>26.0</td>\n",
       "      <td>0</td>\n",
       "      <td>0</td>\n",
       "      <td>STON/O2. 3101282</td>\n",
       "      <td>7.9250</td>\n",
       "      <td>NaN</td>\n",
       "      <td>S</td>\n",
       "    </tr>\n",
       "    <tr>\n",
       "      <th>3</th>\n",
       "      <td>4</td>\n",
       "      <td>1</td>\n",
       "      <td>1</td>\n",
       "      <td>Futrelle, Mrs. Jacques Heath (Lily May Peel)</td>\n",
       "      <td>female</td>\n",
       "      <td>35.0</td>\n",
       "      <td>1</td>\n",
       "      <td>0</td>\n",
       "      <td>113803</td>\n",
       "      <td>53.1000</td>\n",
       "      <td>C123</td>\n",
       "      <td>S</td>\n",
       "    </tr>\n",
       "    <tr>\n",
       "      <th>4</th>\n",
       "      <td>5</td>\n",
       "      <td>0</td>\n",
       "      <td>3</td>\n",
       "      <td>Allen, Mr. William Henry</td>\n",
       "      <td>male</td>\n",
       "      <td>35.0</td>\n",
       "      <td>0</td>\n",
       "      <td>0</td>\n",
       "      <td>373450</td>\n",
       "      <td>8.0500</td>\n",
       "      <td>NaN</td>\n",
       "      <td>S</td>\n",
       "    </tr>\n",
       "  </tbody>\n",
       "</table>\n",
       "</div>"
      ],
      "text/plain": [
       "   PassengerId  Survived  Pclass  \\\n",
       "0            1         0       3   \n",
       "1            2         1       1   \n",
       "2            3         1       3   \n",
       "3            4         1       1   \n",
       "4            5         0       3   \n",
       "\n",
       "                                                Name     Sex   Age  SibSp  \\\n",
       "0                            Braund, Mr. Owen Harris    male  22.0      1   \n",
       "1  Cumings, Mrs. John Bradley (Florence Briggs Th...  female  38.0      1   \n",
       "2                             Heikkinen, Miss. Laina  female  26.0      0   \n",
       "3       Futrelle, Mrs. Jacques Heath (Lily May Peel)  female  35.0      1   \n",
       "4                           Allen, Mr. William Henry    male  35.0      0   \n",
       "\n",
       "   Parch            Ticket     Fare Cabin Embarked  \n",
       "0      0         A/5 21171   7.2500   NaN        S  \n",
       "1      0          PC 17599  71.2833   C85        C  \n",
       "2      0  STON/O2. 3101282   7.9250   NaN        S  \n",
       "3      0            113803  53.1000  C123        S  \n",
       "4      0            373450   8.0500   NaN        S  "
      ]
     },
     "execution_count": 2,
     "metadata": {},
     "output_type": "execute_result"
    }
   ],
   "source": [
    "train_raw = pd.read_csv(\"/kaggle/input/titanic/train.csv\")\n",
    "test_raw = pd.read_csv(\"/kaggle/input/titanic/test.csv\")\n",
    "\n",
    "train_raw.head()"
   ]
  },
  {
   "cell_type": "code",
   "execution_count": 3,
   "metadata": {
    "execution": {
     "iopub.execute_input": "2021-02-14T16:50:09.466578Z",
     "iopub.status.busy": "2021-02-14T16:50:09.465844Z",
     "iopub.status.idle": "2021-02-14T16:50:09.470628Z",
     "shell.execute_reply": "2021-02-14T16:50:09.470033Z"
    },
    "papermill": {
     "duration": 0.06173,
     "end_time": "2021-02-14T16:50:09.470782",
     "exception": false,
     "start_time": "2021-02-14T16:50:09.409052",
     "status": "completed"
    },
    "tags": []
   },
   "outputs": [
    {
     "data": {
      "text/html": [
       "<div>\n",
       "<style scoped>\n",
       "    .dataframe tbody tr th:only-of-type {\n",
       "        vertical-align: middle;\n",
       "    }\n",
       "\n",
       "    .dataframe tbody tr th {\n",
       "        vertical-align: top;\n",
       "    }\n",
       "\n",
       "    .dataframe thead th {\n",
       "        text-align: right;\n",
       "    }\n",
       "</style>\n",
       "<table border=\"1\" class=\"dataframe\">\n",
       "  <thead>\n",
       "    <tr style=\"text-align: right;\">\n",
       "      <th></th>\n",
       "      <th>PassengerId</th>\n",
       "      <th>Pclass</th>\n",
       "      <th>Name</th>\n",
       "      <th>Sex</th>\n",
       "      <th>Age</th>\n",
       "      <th>SibSp</th>\n",
       "      <th>Parch</th>\n",
       "      <th>Ticket</th>\n",
       "      <th>Fare</th>\n",
       "      <th>Cabin</th>\n",
       "      <th>Embarked</th>\n",
       "    </tr>\n",
       "  </thead>\n",
       "  <tbody>\n",
       "    <tr>\n",
       "      <th>0</th>\n",
       "      <td>892</td>\n",
       "      <td>3</td>\n",
       "      <td>Kelly, Mr. James</td>\n",
       "      <td>male</td>\n",
       "      <td>34.5</td>\n",
       "      <td>0</td>\n",
       "      <td>0</td>\n",
       "      <td>330911</td>\n",
       "      <td>7.8292</td>\n",
       "      <td>NaN</td>\n",
       "      <td>Q</td>\n",
       "    </tr>\n",
       "    <tr>\n",
       "      <th>1</th>\n",
       "      <td>893</td>\n",
       "      <td>3</td>\n",
       "      <td>Wilkes, Mrs. James (Ellen Needs)</td>\n",
       "      <td>female</td>\n",
       "      <td>47.0</td>\n",
       "      <td>1</td>\n",
       "      <td>0</td>\n",
       "      <td>363272</td>\n",
       "      <td>7.0000</td>\n",
       "      <td>NaN</td>\n",
       "      <td>S</td>\n",
       "    </tr>\n",
       "    <tr>\n",
       "      <th>2</th>\n",
       "      <td>894</td>\n",
       "      <td>2</td>\n",
       "      <td>Myles, Mr. Thomas Francis</td>\n",
       "      <td>male</td>\n",
       "      <td>62.0</td>\n",
       "      <td>0</td>\n",
       "      <td>0</td>\n",
       "      <td>240276</td>\n",
       "      <td>9.6875</td>\n",
       "      <td>NaN</td>\n",
       "      <td>Q</td>\n",
       "    </tr>\n",
       "    <tr>\n",
       "      <th>3</th>\n",
       "      <td>895</td>\n",
       "      <td>3</td>\n",
       "      <td>Wirz, Mr. Albert</td>\n",
       "      <td>male</td>\n",
       "      <td>27.0</td>\n",
       "      <td>0</td>\n",
       "      <td>0</td>\n",
       "      <td>315154</td>\n",
       "      <td>8.6625</td>\n",
       "      <td>NaN</td>\n",
       "      <td>S</td>\n",
       "    </tr>\n",
       "    <tr>\n",
       "      <th>4</th>\n",
       "      <td>896</td>\n",
       "      <td>3</td>\n",
       "      <td>Hirvonen, Mrs. Alexander (Helga E Lindqvist)</td>\n",
       "      <td>female</td>\n",
       "      <td>22.0</td>\n",
       "      <td>1</td>\n",
       "      <td>1</td>\n",
       "      <td>3101298</td>\n",
       "      <td>12.2875</td>\n",
       "      <td>NaN</td>\n",
       "      <td>S</td>\n",
       "    </tr>\n",
       "  </tbody>\n",
       "</table>\n",
       "</div>"
      ],
      "text/plain": [
       "   PassengerId  Pclass                                          Name     Sex  \\\n",
       "0          892       3                              Kelly, Mr. James    male   \n",
       "1          893       3              Wilkes, Mrs. James (Ellen Needs)  female   \n",
       "2          894       2                     Myles, Mr. Thomas Francis    male   \n",
       "3          895       3                              Wirz, Mr. Albert    male   \n",
       "4          896       3  Hirvonen, Mrs. Alexander (Helga E Lindqvist)  female   \n",
       "\n",
       "    Age  SibSp  Parch   Ticket     Fare Cabin Embarked  \n",
       "0  34.5      0      0   330911   7.8292   NaN        Q  \n",
       "1  47.0      1      0   363272   7.0000   NaN        S  \n",
       "2  62.0      0      0   240276   9.6875   NaN        Q  \n",
       "3  27.0      0      0   315154   8.6625   NaN        S  \n",
       "4  22.0      1      1  3101298  12.2875   NaN        S  "
      ]
     },
     "execution_count": 3,
     "metadata": {},
     "output_type": "execute_result"
    }
   ],
   "source": [
    "train= train_raw\n",
    "test= test_raw\n",
    "test.head()"
   ]
  },
  {
   "cell_type": "code",
   "execution_count": 4,
   "metadata": {
    "execution": {
     "iopub.execute_input": "2021-02-14T16:50:09.572351Z",
     "iopub.status.busy": "2021-02-14T16:50:09.569968Z",
     "iopub.status.idle": "2021-02-14T16:50:09.576961Z",
     "shell.execute_reply": "2021-02-14T16:50:09.577609Z"
    },
    "papermill": {
     "duration": 0.068366,
     "end_time": "2021-02-14T16:50:09.577823",
     "exception": false,
     "start_time": "2021-02-14T16:50:09.509457",
     "status": "completed"
    },
    "tags": []
   },
   "outputs": [
    {
     "name": "stdout",
     "output_type": "stream",
     "text": [
      "<class 'pandas.core.frame.DataFrame'>\n",
      "RangeIndex: 891 entries, 0 to 890\n",
      "Data columns (total 12 columns):\n",
      " #   Column       Non-Null Count  Dtype  \n",
      "---  ------       --------------  -----  \n",
      " 0   PassengerId  891 non-null    int64  \n",
      " 1   Survived     891 non-null    int64  \n",
      " 2   Pclass       891 non-null    int64  \n",
      " 3   Name         891 non-null    object \n",
      " 4   Sex          891 non-null    object \n",
      " 5   Age          714 non-null    float64\n",
      " 6   SibSp        891 non-null    int64  \n",
      " 7   Parch        891 non-null    int64  \n",
      " 8   Ticket       891 non-null    object \n",
      " 9   Fare         891 non-null    float64\n",
      " 10  Cabin        204 non-null    object \n",
      " 11  Embarked     889 non-null    object \n",
      "dtypes: float64(2), int64(5), object(5)\n",
      "memory usage: 83.7+ KB\n"
     ]
    }
   ],
   "source": [
    "train.info()"
   ]
  },
  {
   "cell_type": "markdown",
   "metadata": {
    "papermill": {
     "duration": 0.03945,
     "end_time": "2021-02-14T16:50:09.657823",
     "exception": false,
     "start_time": "2021-02-14T16:50:09.618373",
     "status": "completed"
    },
    "tags": []
   },
   "source": [
    "We can see that some of the features have missing values. We need to examine the features that have missing values and the percnetage of the missing values so we can deal with those. Let's take a look.  "
   ]
  },
  {
   "cell_type": "code",
   "execution_count": 5,
   "metadata": {
    "execution": {
     "iopub.execute_input": "2021-02-14T16:50:09.743670Z",
     "iopub.status.busy": "2021-02-14T16:50:09.743002Z",
     "iopub.status.idle": "2021-02-14T16:50:09.774547Z",
     "shell.execute_reply": "2021-02-14T16:50:09.773450Z"
    },
    "papermill": {
     "duration": 0.077306,
     "end_time": "2021-02-14T16:50:09.774854",
     "exception": false,
     "start_time": "2021-02-14T16:50:09.697548",
     "status": "completed"
    },
    "tags": []
   },
   "outputs": [
    {
     "data": {
      "text/plain": [
       "Cabin          77.104377\n",
       "Age            19.865320\n",
       "Embarked        0.224467\n",
       "PassengerId     0.000000\n",
       "Survived        0.000000\n",
       "Pclass          0.000000\n",
       "Name            0.000000\n",
       "Sex             0.000000\n",
       "SibSp           0.000000\n",
       "Parch           0.000000\n",
       "Ticket          0.000000\n",
       "Fare            0.000000\n",
       "dtype: float64"
      ]
     },
     "execution_count": 5,
     "metadata": {},
     "output_type": "execute_result"
    }
   ],
   "source": [
    "#find percent of missing data\n",
    "percent_missing = train.isnull().sum() *100 /len(train)\n",
    "percent_missing = percent_missing.sort_values(ascending=False)\n",
    "percent_missing"
   ]
  },
  {
   "cell_type": "markdown",
   "metadata": {
    "papermill": {
     "duration": 0.052783,
     "end_time": "2021-02-14T16:50:09.887361",
     "exception": false,
     "start_time": "2021-02-14T16:50:09.834578",
     "status": "completed"
    },
    "tags": []
   },
   "source": [
    "The Embarked feature has only 2 missing values, which can easily be filled. It will be much more tricky, to deal with the ‘Age’ and 'Cabin' features, which have 19% and 77% missing values. We wil deal with them later on in feature engineering section."
   ]
  },
  {
   "cell_type": "code",
   "execution_count": 6,
   "metadata": {
    "execution": {
     "iopub.execute_input": "2021-02-14T16:50:09.988008Z",
     "iopub.status.busy": "2021-02-14T16:50:09.986891Z",
     "iopub.status.idle": "2021-02-14T16:50:10.018516Z",
     "shell.execute_reply": "2021-02-14T16:50:10.017861Z"
    },
    "papermill": {
     "duration": 0.080676,
     "end_time": "2021-02-14T16:50:10.018664",
     "exception": false,
     "start_time": "2021-02-14T16:50:09.937988",
     "status": "completed"
    },
    "tags": []
   },
   "outputs": [
    {
     "data": {
      "text/html": [
       "<div>\n",
       "<style scoped>\n",
       "    .dataframe tbody tr th:only-of-type {\n",
       "        vertical-align: middle;\n",
       "    }\n",
       "\n",
       "    .dataframe tbody tr th {\n",
       "        vertical-align: top;\n",
       "    }\n",
       "\n",
       "    .dataframe thead th {\n",
       "        text-align: right;\n",
       "    }\n",
       "</style>\n",
       "<table border=\"1\" class=\"dataframe\">\n",
       "  <thead>\n",
       "    <tr style=\"text-align: right;\">\n",
       "      <th></th>\n",
       "      <th>PassengerId</th>\n",
       "      <th>Survived</th>\n",
       "      <th>Pclass</th>\n",
       "      <th>Age</th>\n",
       "      <th>SibSp</th>\n",
       "      <th>Parch</th>\n",
       "      <th>Fare</th>\n",
       "    </tr>\n",
       "  </thead>\n",
       "  <tbody>\n",
       "    <tr>\n",
       "      <th>count</th>\n",
       "      <td>891.000000</td>\n",
       "      <td>891.000000</td>\n",
       "      <td>891.000000</td>\n",
       "      <td>714.000000</td>\n",
       "      <td>891.000000</td>\n",
       "      <td>891.000000</td>\n",
       "      <td>891.000000</td>\n",
       "    </tr>\n",
       "    <tr>\n",
       "      <th>mean</th>\n",
       "      <td>446.000000</td>\n",
       "      <td>0.383838</td>\n",
       "      <td>2.308642</td>\n",
       "      <td>29.699118</td>\n",
       "      <td>0.523008</td>\n",
       "      <td>0.381594</td>\n",
       "      <td>32.204208</td>\n",
       "    </tr>\n",
       "    <tr>\n",
       "      <th>std</th>\n",
       "      <td>257.353842</td>\n",
       "      <td>0.486592</td>\n",
       "      <td>0.836071</td>\n",
       "      <td>14.526497</td>\n",
       "      <td>1.102743</td>\n",
       "      <td>0.806057</td>\n",
       "      <td>49.693429</td>\n",
       "    </tr>\n",
       "    <tr>\n",
       "      <th>min</th>\n",
       "      <td>1.000000</td>\n",
       "      <td>0.000000</td>\n",
       "      <td>1.000000</td>\n",
       "      <td>0.420000</td>\n",
       "      <td>0.000000</td>\n",
       "      <td>0.000000</td>\n",
       "      <td>0.000000</td>\n",
       "    </tr>\n",
       "    <tr>\n",
       "      <th>25%</th>\n",
       "      <td>223.500000</td>\n",
       "      <td>0.000000</td>\n",
       "      <td>2.000000</td>\n",
       "      <td>20.125000</td>\n",
       "      <td>0.000000</td>\n",
       "      <td>0.000000</td>\n",
       "      <td>7.910400</td>\n",
       "    </tr>\n",
       "    <tr>\n",
       "      <th>50%</th>\n",
       "      <td>446.000000</td>\n",
       "      <td>0.000000</td>\n",
       "      <td>3.000000</td>\n",
       "      <td>28.000000</td>\n",
       "      <td>0.000000</td>\n",
       "      <td>0.000000</td>\n",
       "      <td>14.454200</td>\n",
       "    </tr>\n",
       "    <tr>\n",
       "      <th>75%</th>\n",
       "      <td>668.500000</td>\n",
       "      <td>1.000000</td>\n",
       "      <td>3.000000</td>\n",
       "      <td>38.000000</td>\n",
       "      <td>1.000000</td>\n",
       "      <td>0.000000</td>\n",
       "      <td>31.000000</td>\n",
       "    </tr>\n",
       "    <tr>\n",
       "      <th>max</th>\n",
       "      <td>891.000000</td>\n",
       "      <td>1.000000</td>\n",
       "      <td>3.000000</td>\n",
       "      <td>80.000000</td>\n",
       "      <td>8.000000</td>\n",
       "      <td>6.000000</td>\n",
       "      <td>512.329200</td>\n",
       "    </tr>\n",
       "  </tbody>\n",
       "</table>\n",
       "</div>"
      ],
      "text/plain": [
       "       PassengerId    Survived      Pclass         Age       SibSp  \\\n",
       "count   891.000000  891.000000  891.000000  714.000000  891.000000   \n",
       "mean    446.000000    0.383838    2.308642   29.699118    0.523008   \n",
       "std     257.353842    0.486592    0.836071   14.526497    1.102743   \n",
       "min       1.000000    0.000000    1.000000    0.420000    0.000000   \n",
       "25%     223.500000    0.000000    2.000000   20.125000    0.000000   \n",
       "50%     446.000000    0.000000    3.000000   28.000000    0.000000   \n",
       "75%     668.500000    1.000000    3.000000   38.000000    1.000000   \n",
       "max     891.000000    1.000000    3.000000   80.000000    8.000000   \n",
       "\n",
       "            Parch        Fare  \n",
       "count  891.000000  891.000000  \n",
       "mean     0.381594   32.204208  \n",
       "std      0.806057   49.693429  \n",
       "min      0.000000    0.000000  \n",
       "25%      0.000000    7.910400  \n",
       "50%      0.000000   14.454200  \n",
       "75%      0.000000   31.000000  \n",
       "max      6.000000  512.329200  "
      ]
     },
     "execution_count": 6,
     "metadata": {},
     "output_type": "execute_result"
    }
   ],
   "source": [
    "train.describe()"
   ]
  },
  {
   "cell_type": "code",
   "execution_count": 7,
   "metadata": {
    "execution": {
     "iopub.execute_input": "2021-02-14T16:50:10.110648Z",
     "iopub.status.busy": "2021-02-14T16:50:10.107940Z",
     "iopub.status.idle": "2021-02-14T16:50:10.130780Z",
     "shell.execute_reply": "2021-02-14T16:50:10.130167Z"
    },
    "papermill": {
     "duration": 0.071488,
     "end_time": "2021-02-14T16:50:10.130923",
     "exception": false,
     "start_time": "2021-02-14T16:50:10.059435",
     "status": "completed"
    },
    "tags": []
   },
   "outputs": [
    {
     "data": {
      "text/plain": [
       "Index(['PassengerId', 'Survived', 'Pclass', 'Age', 'SibSp', 'Parch', 'Fare'], dtype='object')"
      ]
     },
     "execution_count": 7,
     "metadata": {},
     "output_type": "execute_result"
    }
   ],
   "source": [
    "train.describe().columns"
   ]
  },
  {
   "cell_type": "markdown",
   "metadata": {
    "papermill": {
     "duration": 0.040795,
     "end_time": "2021-02-14T16:50:10.212879",
     "exception": false,
     "start_time": "2021-02-14T16:50:10.172084",
     "status": "completed"
    },
    "tags": []
   },
   "source": [
    "# Understanding Data with plots"
   ]
  },
  {
   "cell_type": "code",
   "execution_count": 8,
   "metadata": {
    "execution": {
     "iopub.execute_input": "2021-02-14T16:50:10.301914Z",
     "iopub.status.busy": "2021-02-14T16:50:10.301228Z",
     "iopub.status.idle": "2021-02-14T16:50:11.904485Z",
     "shell.execute_reply": "2021-02-14T16:50:11.903839Z"
    },
    "papermill": {
     "duration": 1.650943,
     "end_time": "2021-02-14T16:50:11.904639",
     "exception": false,
     "start_time": "2021-02-14T16:50:10.253696",
     "status": "completed"
    },
    "tags": []
   },
   "outputs": [
    {
     "data": {
      "image/png": "[encoded data removed]",
      "text/plain": [
       "<Figure size 1440x1080 with 6 Axes>"
      ]
     },
     "metadata": {
      "needs_background": "light"
     },
     "output_type": "display_data"
    }
   ],
   "source": [
    "#plot histograms for all variables\n",
    "#first we need to drop passenger id\n",
    "train.drop(['PassengerId'], 1).hist(bins=50, figsize=(20,15))\n",
    "plt.show()"
   ]
  },
  {
   "cell_type": "code",
   "execution_count": 9,
   "metadata": {
    "execution": {
     "iopub.execute_input": "2021-02-14T16:50:11.998264Z",
     "iopub.status.busy": "2021-02-14T16:50:11.997567Z",
     "iopub.status.idle": "2021-02-14T16:50:12.295684Z",
     "shell.execute_reply": "2021-02-14T16:50:12.295071Z"
    },
    "papermill": {
     "duration": 0.348535,
     "end_time": "2021-02-14T16:50:12.295834",
     "exception": false,
     "start_time": "2021-02-14T16:50:11.947299",
     "status": "completed"
    },
    "tags": []
   },
   "outputs": [
    {
     "data": {
      "text/plain": [
       "<AxesSubplot:>"
      ]
     },
     "execution_count": 9,
     "metadata": {},
     "output_type": "execute_result"
    },
    {
     "data": {
      "image/png": "[encoded data removed]",
      "text/plain": [
       "<Figure size 432x288 with 2 Axes>"
      ]
     },
     "metadata": {
      "needs_background": "light"
     },
     "output_type": "display_data"
    }
   ],
   "source": [
    "train.corr()\n",
    "sns.heatmap(train.corr(), cmap='Spectral')"
   ]
  },
  {
   "cell_type": "code",
   "execution_count": 10,
   "metadata": {
    "execution": {
     "iopub.execute_input": "2021-02-14T16:50:12.395901Z",
     "iopub.status.busy": "2021-02-14T16:50:12.393229Z",
     "iopub.status.idle": "2021-02-14T16:50:12.651278Z",
     "shell.execute_reply": "2021-02-14T16:50:12.650550Z"
    },
    "papermill": {
     "duration": 0.310486,
     "end_time": "2021-02-14T16:50:12.651510",
     "exception": false,
     "start_time": "2021-02-14T16:50:12.341024",
     "status": "completed"
    },
    "tags": []
   },
   "outputs": [
    {
     "data": {
      "text/plain": [
       "<AxesSubplot:xlabel='Pclass', ylabel='Survived'>"
      ]
     },
     "execution_count": 10,
     "metadata": {},
     "output_type": "execute_result"
    },
    {
     "data": {
      "image/png": "[encoded data removed]",
      "text/plain": [
       "<Figure size 432x288 with 1 Axes>"
      ]
     },
     "metadata": {
      "needs_background": "light"
     },
     "output_type": "display_data"
    }
   ],
   "source": [
    "#see effect of class on survival rate\n",
    "sns.barplot(x='Pclass', y='Survived', data=train)"
   ]
  },
  {
   "cell_type": "markdown",
   "metadata": {
    "papermill": {
     "duration": 0.045695,
     "end_time": "2021-02-14T16:50:12.744345",
     "exception": false,
     "start_time": "2021-02-14T16:50:12.698650",
     "status": "completed"
    },
    "tags": []
   },
   "source": [
    "Here we see clearly, that Pclass is contributing to a persons chance of survival, especially if this person is in class 1."
   ]
  },
  {
   "cell_type": "code",
   "execution_count": 11,
   "metadata": {
    "execution": {
     "iopub.execute_input": "2021-02-14T16:50:12.861387Z",
     "iopub.status.busy": "2021-02-14T16:50:12.851734Z",
     "iopub.status.idle": "2021-02-14T16:50:12.865903Z",
     "shell.execute_reply": "2021-02-14T16:50:12.865184Z"
    },
    "papermill": {
     "duration": 0.076337,
     "end_time": "2021-02-14T16:50:12.866076",
     "exception": false,
     "start_time": "2021-02-14T16:50:12.789739",
     "status": "completed"
    },
    "tags": []
   },
   "outputs": [
    {
     "data": {
      "text/html": [
       "<div>\n",
       "<style scoped>\n",
       "    .dataframe tbody tr th:only-of-type {\n",
       "        vertical-align: middle;\n",
       "    }\n",
       "\n",
       "    .dataframe tbody tr th {\n",
       "        vertical-align: top;\n",
       "    }\n",
       "\n",
       "    .dataframe thead th {\n",
       "        text-align: right;\n",
       "    }\n",
       "</style>\n",
       "<table border=\"1\" class=\"dataframe\">\n",
       "  <thead>\n",
       "    <tr style=\"text-align: right;\">\n",
       "      <th></th>\n",
       "      <th>Age</th>\n",
       "      <th>Fare</th>\n",
       "      <th>Parch</th>\n",
       "      <th>Pclass</th>\n",
       "      <th>SibSp</th>\n",
       "    </tr>\n",
       "    <tr>\n",
       "      <th>Survived</th>\n",
       "      <th></th>\n",
       "      <th></th>\n",
       "      <th></th>\n",
       "      <th></th>\n",
       "      <th></th>\n",
       "    </tr>\n",
       "  </thead>\n",
       "  <tbody>\n",
       "    <tr>\n",
       "      <th>0</th>\n",
       "      <td>30.626179</td>\n",
       "      <td>22.117887</td>\n",
       "      <td>0.329690</td>\n",
       "      <td>2.531876</td>\n",
       "      <td>0.553734</td>\n",
       "    </tr>\n",
       "    <tr>\n",
       "      <th>1</th>\n",
       "      <td>28.343690</td>\n",
       "      <td>48.395408</td>\n",
       "      <td>0.464912</td>\n",
       "      <td>1.950292</td>\n",
       "      <td>0.473684</td>\n",
       "    </tr>\n",
       "  </tbody>\n",
       "</table>\n",
       "</div>"
      ],
      "text/plain": [
       "                Age       Fare     Parch    Pclass     SibSp\n",
       "Survived                                                    \n",
       "0         30.626179  22.117887  0.329690  2.531876  0.553734\n",
       "1         28.343690  48.395408  0.464912  1.950292  0.473684"
      ]
     },
     "execution_count": 11,
     "metadata": {},
     "output_type": "execute_result"
    }
   ],
   "source": [
    "pd.pivot_table(train, index = 'Survived', values = ['Age','SibSp','Parch','Fare', 'Pclass'])"
   ]
  },
  {
   "cell_type": "code",
   "execution_count": 12,
   "metadata": {
    "execution": {
     "iopub.execute_input": "2021-02-14T16:50:12.977513Z",
     "iopub.status.busy": "2021-02-14T16:50:12.969174Z",
     "iopub.status.idle": "2021-02-14T16:50:13.017309Z",
     "shell.execute_reply": "2021-02-14T16:50:13.016557Z"
    },
    "papermill": {
     "duration": 0.104616,
     "end_time": "2021-02-14T16:50:13.017479",
     "exception": false,
     "start_time": "2021-02-14T16:50:12.912863",
     "status": "completed"
    },
    "tags": []
   },
   "outputs": [
    {
     "name": "stdout",
     "output_type": "stream",
     "text": [
      "Pclass      1   2    3\n",
      "Survived              \n",
      "0          80  97  372\n",
      "1         136  87  119\n",
      "\n",
      "Sex       female  male\n",
      "Survived              \n",
      "0             81   468\n",
      "1            233   109\n",
      "\n",
      "Embarked   C   Q    S\n",
      "Survived             \n",
      "0         75  47  427\n",
      "1         93  30  217\n"
     ]
    }
   ],
   "source": [
    "# Comparing survival and each of these categorical variables \n",
    "print(pd.pivot_table(train, index = 'Survived', columns = 'Pclass', values = 'Ticket' ,aggfunc ='count'))\n",
    "print()\n",
    "print(pd.pivot_table(train, index = 'Survived', columns = 'Sex', values = 'Ticket' ,aggfunc ='count'))\n",
    "print()\n",
    "print(pd.pivot_table(train, index = 'Survived', columns = 'Embarked', values = 'Ticket' ,aggfunc ='count'))"
   ]
  },
  {
   "cell_type": "markdown",
   "metadata": {
    "papermill": {
     "duration": 0.046338,
     "end_time": "2021-02-14T16:50:13.110282",
     "exception": false,
     "start_time": "2021-02-14T16:50:13.063944",
     "status": "completed"
    },
    "tags": []
   },
   "source": [
    "With this first exploration, we can see that :\n",
    "* Only aproximately 35% of passengers survived \n",
    "* More than the half of passengers are in the lowest class (pclass = 3)\n",
    "* Most of the fare tickets are below 50\n",
    "* Majority of passengers are alone (sibsp and parch)"
   ]
  },
  {
   "cell_type": "markdown",
   "metadata": {
    "papermill": {
     "duration": 0.046117,
     "end_time": "2021-02-14T16:50:13.203102",
     "exception": false,
     "start_time": "2021-02-14T16:50:13.156985",
     "status": "completed"
    },
    "tags": []
   },
   "source": [
    " # Data Pre processing"
   ]
  },
  {
   "cell_type": "markdown",
   "metadata": {
    "papermill": {
     "duration": 0.046278,
     "end_time": "2021-02-14T16:50:13.295849",
     "exception": false,
     "start_time": "2021-02-14T16:50:13.249571",
     "status": "completed"
    },
    "tags": []
   },
   "source": [
    "First, let's drop PassengerId from the train set, because it does not contribute to a persons survival probability. I'll keep it in the test set, since it is required for submission."
   ]
  },
  {
   "cell_type": "code",
   "execution_count": 13,
   "metadata": {
    "execution": {
     "iopub.execute_input": "2021-02-14T16:50:13.396728Z",
     "iopub.status.busy": "2021-02-14T16:50:13.396037Z",
     "iopub.status.idle": "2021-02-14T16:50:13.400126Z",
     "shell.execute_reply": "2021-02-14T16:50:13.399396Z"
    },
    "papermill": {
     "duration": 0.056731,
     "end_time": "2021-02-14T16:50:13.400292",
     "exception": false,
     "start_time": "2021-02-14T16:50:13.343561",
     "status": "completed"
    },
    "tags": []
   },
   "outputs": [],
   "source": [
    "train= train.drop(['PassengerId'], axis=1)"
   ]
  },
  {
   "cell_type": "markdown",
   "metadata": {
    "papermill": {
     "duration": 0.04627,
     "end_time": "2021-02-14T16:50:13.492727",
     "exception": false,
     "start_time": "2021-02-14T16:50:13.446457",
     "status": "completed"
    },
    "tags": []
   },
   "source": [
    "# Missing Data "
   ]
  },
  {
   "cell_type": "markdown",
   "metadata": {
    "papermill": {
     "duration": 0.047759,
     "end_time": "2021-02-14T16:50:13.588408",
     "exception": false,
     "start_time": "2021-02-14T16:50:13.540649",
     "status": "completed"
    },
    "tags": []
   },
   "source": [
    "Next drop null values from Embarked (only 2 values). \n",
    "Below is the distribution of Embarked according to Fare and sex, and the two observations with missing \"Embarked\" value. Let's look at there two observations and choose the best matching embarked value according to their fare value and sex\n"
   ]
  },
  {
   "cell_type": "code",
   "execution_count": 14,
   "metadata": {
    "execution": {
     "iopub.execute_input": "2021-02-14T16:50:13.706906Z",
     "iopub.status.busy": "2021-02-14T16:50:13.696832Z",
     "iopub.status.idle": "2021-02-14T16:50:14.092129Z",
     "shell.execute_reply": "2021-02-14T16:50:14.091512Z"
    },
    "papermill": {
     "duration": 0.455873,
     "end_time": "2021-02-14T16:50:14.092298",
     "exception": false,
     "start_time": "2021-02-14T16:50:13.636425",
     "status": "completed"
    },
    "tags": []
   },
   "outputs": [
    {
     "data": {
      "image/png": "[encoded data removed]",
      "text/plain": [
       "<Figure size 1440x432 with 1 Axes>"
      ]
     },
     "metadata": {
      "needs_background": "light"
     },
     "output_type": "display_data"
    },
    {
     "data": {
      "text/html": [
       "<div>\n",
       "<style scoped>\n",
       "    .dataframe tbody tr th:only-of-type {\n",
       "        vertical-align: middle;\n",
       "    }\n",
       "\n",
       "    .dataframe tbody tr th {\n",
       "        vertical-align: top;\n",
       "    }\n",
       "\n",
       "    .dataframe thead th {\n",
       "        text-align: right;\n",
       "    }\n",
       "</style>\n",
       "<table border=\"1\" class=\"dataframe\">\n",
       "  <thead>\n",
       "    <tr style=\"text-align: right;\">\n",
       "      <th></th>\n",
       "      <th>Survived</th>\n",
       "      <th>Pclass</th>\n",
       "      <th>Name</th>\n",
       "      <th>Sex</th>\n",
       "      <th>Age</th>\n",
       "      <th>SibSp</th>\n",
       "      <th>Parch</th>\n",
       "      <th>Ticket</th>\n",
       "      <th>Fare</th>\n",
       "      <th>Cabin</th>\n",
       "      <th>Embarked</th>\n",
       "    </tr>\n",
       "  </thead>\n",
       "  <tbody>\n",
       "    <tr>\n",
       "      <th>61</th>\n",
       "      <td>1</td>\n",
       "      <td>1</td>\n",
       "      <td>Icard, Miss. Amelie</td>\n",
       "      <td>female</td>\n",
       "      <td>38.0</td>\n",
       "      <td>0</td>\n",
       "      <td>0</td>\n",
       "      <td>113572</td>\n",
       "      <td>80.0</td>\n",
       "      <td>B28</td>\n",
       "      <td>NaN</td>\n",
       "    </tr>\n",
       "    <tr>\n",
       "      <th>829</th>\n",
       "      <td>1</td>\n",
       "      <td>1</td>\n",
       "      <td>Stone, Mrs. George Nelson (Martha Evelyn)</td>\n",
       "      <td>female</td>\n",
       "      <td>62.0</td>\n",
       "      <td>0</td>\n",
       "      <td>0</td>\n",
       "      <td>113572</td>\n",
       "      <td>80.0</td>\n",
       "      <td>B28</td>\n",
       "      <td>NaN</td>\n",
       "    </tr>\n",
       "  </tbody>\n",
       "</table>\n",
       "</div>"
      ],
      "text/plain": [
       "     Survived  Pclass                                       Name     Sex  \\\n",
       "61          1       1                        Icard, Miss. Amelie  female   \n",
       "829         1       1  Stone, Mrs. George Nelson (Martha Evelyn)  female   \n",
       "\n",
       "      Age  SibSp  Parch  Ticket  Fare Cabin Embarked  \n",
       "61   38.0      0      0  113572  80.0   B28      NaN  \n",
       "829  62.0      0      0  113572  80.0   B28      NaN  "
      ]
     },
     "metadata": {},
     "output_type": "display_data"
    }
   ],
   "source": [
    "figure, axes = plt.subplots(1,1,figsize=(20, 6))\n",
    "plot = sns.barplot(x=\"Embarked\", y=\"Fare\", hue=\"Sex\", data=train, ax=axes)\n",
    "plt.show()\n",
    "display(train[train['Embarked'].isnull()])"
   ]
  },
  {
   "cell_type": "markdown",
   "metadata": {
    "papermill": {
     "duration": 0.048889,
     "end_time": "2021-02-14T16:50:14.190270",
     "exception": false,
     "start_time": "2021-02-14T16:50:14.141381",
     "status": "completed"
    },
    "tags": []
   },
   "source": [
    "Both passengers are female who paid 80 dollars as fare for their tickets. They have the same ticket and cabin, so they probably had to board at the same place. According to the distribution above, the more probable embarked value for them is Cherbourg (C). Let's replace it with C. "
   ]
  },
  {
   "cell_type": "code",
   "execution_count": 15,
   "metadata": {
    "execution": {
     "iopub.execute_input": "2021-02-14T16:50:14.296342Z",
     "iopub.status.busy": "2021-02-14T16:50:14.295633Z",
     "iopub.status.idle": "2021-02-14T16:50:14.298893Z",
     "shell.execute_reply": "2021-02-14T16:50:14.298274Z"
    },
    "papermill": {
     "duration": 0.060247,
     "end_time": "2021-02-14T16:50:14.299053",
     "exception": false,
     "start_time": "2021-02-14T16:50:14.238806",
     "status": "completed"
    },
    "tags": []
   },
   "outputs": [],
   "source": [
    "def data_preprocessing(df):\n",
    "# use this function to process both training and testing data\n",
    "\n",
    "    processed_df= df\n",
    "    #replace emabrked with C\n",
    "    processed_df['Embarked'].fillna('C', inplace=True)\n",
    "\n",
    "\n",
    "    # replace missing ages by the mean age of passengers who belong to the same group of class/sex/family\n",
    "    processed_df['Age'] = processed_df.groupby(['Pclass','Sex','Parch','SibSp'])['Age'].transform(lambda x: x.fillna(x.mean()))   \n",
    "    processed_df['Age'] = processed_df.groupby(['Pclass','Sex','Parch'])['Age'].transform(lambda x: x.fillna(x.mean()))\n",
    "    processed_df['Age'] = processed_df.groupby(['Pclass','Sex'])['Age'].transform(lambda x: x.fillna(x.mean()))\n",
    "    \n",
    "    # replace the only missing fare value for test dataset \n",
    "    processed_df['Fare'] = processed_df['Fare'].interpolate()    \n",
    "    \n",
    "    return processed_df"
   ]
  },
  {
   "cell_type": "code",
   "execution_count": 16,
   "metadata": {
    "execution": {
     "iopub.execute_input": "2021-02-14T16:50:14.403825Z",
     "iopub.status.busy": "2021-02-14T16:50:14.403082Z",
     "iopub.status.idle": "2021-02-14T16:50:14.619480Z",
     "shell.execute_reply": "2021-02-14T16:50:14.618308Z"
    },
    "papermill": {
     "duration": 0.272946,
     "end_time": "2021-02-14T16:50:14.619742",
     "exception": false,
     "start_time": "2021-02-14T16:50:14.346796",
     "status": "completed"
    },
    "tags": []
   },
   "outputs": [],
   "source": [
    "train = data_preprocessing(train)\n",
    "test = data_preprocessing(test)"
   ]
  },
  {
   "cell_type": "markdown",
   "metadata": {
    "papermill": {
     "duration": 0.04955,
     "end_time": "2021-02-14T16:50:14.719162",
     "exception": false,
     "start_time": "2021-02-14T16:50:14.669612",
     "status": "completed"
    },
    "tags": []
   },
   "source": [
    "# Feature Engineering"
   ]
  },
  {
   "cell_type": "markdown",
   "metadata": {
    "papermill": {
     "duration": 0.049238,
     "end_time": "2021-02-14T16:50:14.819508",
     "exception": false,
     "start_time": "2021-02-14T16:50:14.770270",
     "status": "completed"
    },
    "tags": []
   },
   "source": [
    "A cabin number looks like ‘C123’ and the letter refers to the deck. Therefore we’re going to extract these and create a new feature, that contains a persons deck. We will then convert the feature into a numeric variable. The missing values will be converted to zero. \n",
    "Using SibSp and Parch, new features 'number of relatives' and 'not_alone' are created. \n",
    "We will use the Name feature to extract the Titles from the Name, so that we can build a new feature out of that."
   ]
  },
  {
   "cell_type": "code",
   "execution_count": 17,
   "metadata": {
    "execution": {
     "iopub.execute_input": "2021-02-14T16:50:14.942031Z",
     "iopub.status.busy": "2021-02-14T16:50:14.934967Z",
     "iopub.status.idle": "2021-02-14T16:50:14.963568Z",
     "shell.execute_reply": "2021-02-14T16:50:14.962963Z"
    },
    "papermill": {
     "duration": 0.095295,
     "end_time": "2021-02-14T16:50:14.963745",
     "exception": false,
     "start_time": "2021-02-14T16:50:14.868450",
     "status": "completed"
    },
    "tags": []
   },
   "outputs": [],
   "source": [
    "import re\n",
    "\n",
    "deck = {\"A\": 1, \"B\": 2, \"C\": 3, \"D\": 4, \"E\": 5, \"F\": 6, \"G\": 7, \"U\": 8}\n",
    "data = [train, test]\n",
    "\n",
    "for dataset in data:\n",
    "    # Modification of cabin column to keep only the letter contained corresponding to the deck of the boat\n",
    "\n",
    "    dataset['Cabin'] = dataset['Cabin'].fillna(\"U0\")\n",
    "    dataset['Deck'] = dataset['Cabin'].map(lambda x: re.compile(\"([a-zA-Z]+)\").search(x).group())\n",
    "    dataset['Deck'] = dataset['Deck'].map(deck)\n",
    "    dataset['Deck'] = dataset['Deck'].fillna(0)\n",
    "    dataset['Deck'] = dataset['Deck'].astype(int)\n",
    "    \n",
    "    #calculate feature that shows number of relatives on the ship \n",
    "\n",
    "    dataset['relatives'] = dataset['SibSp'] + dataset['Parch']\n",
    "    dataset.loc[dataset['relatives'] > 0, 'not_alone'] = 0\n",
    "    dataset.loc[dataset['relatives'] == 0, 'not_alone'] = 1\n",
    "    dataset['not_alone'] = dataset['not_alone'].astype(int)\n",
    "\n",
    "    # Create a Title column from name column\n",
    "    dataset['Title'] = pd.Series((name.split('.')[0].split(',')[1].strip() for name in dataset['Name']), index=dataset.index)\n",
    "    dataset['Title'] = dataset['Title'].replace(['Lady', 'the Countess','Countess','Capt', 'Col','Don', 'Dr', 'Major', 'Rev', 'Sir', 'Jonkheer', 'Dona'], 'Rare')\n",
    "    dataset['Title'] = dataset['Title'].replace(['Mlle', 'Ms'], 'Miss')\n",
    "    dataset['Title'] = dataset['Title'].replace('Mme', 'Mrs')\n",
    "    dataset['Title'] = dataset['Title'].map({\"Mr\": 1, \"Miss\": 2, \"Mrs\": 3, \"Master\": 4, \"Rare\": 5})\n"
   ]
  },
  {
   "cell_type": "code",
   "execution_count": 18,
   "metadata": {
    "execution": {
     "iopub.execute_input": "2021-02-14T16:50:15.080362Z",
     "iopub.status.busy": "2021-02-14T16:50:15.070371Z",
     "iopub.status.idle": "2021-02-14T16:50:15.085467Z",
     "shell.execute_reply": "2021-02-14T16:50:15.084789Z"
    },
    "papermill": {
     "duration": 0.072495,
     "end_time": "2021-02-14T16:50:15.085636",
     "exception": false,
     "start_time": "2021-02-14T16:50:15.013141",
     "status": "completed"
    },
    "tags": []
   },
   "outputs": [
    {
     "name": "stdout",
     "output_type": "stream",
     "text": [
      "<class 'pandas.core.frame.DataFrame'>\n",
      "RangeIndex: 891 entries, 0 to 890\n",
      "Data columns (total 15 columns):\n",
      " #   Column     Non-Null Count  Dtype  \n",
      "---  ------     --------------  -----  \n",
      " 0   Survived   891 non-null    int64  \n",
      " 1   Pclass     891 non-null    int64  \n",
      " 2   Name       891 non-null    object \n",
      " 3   Sex        891 non-null    object \n",
      " 4   Age        891 non-null    float64\n",
      " 5   SibSp      891 non-null    int64  \n",
      " 6   Parch      891 non-null    int64  \n",
      " 7   Ticket     891 non-null    object \n",
      " 8   Fare       891 non-null    float64\n",
      " 9   Cabin      891 non-null    object \n",
      " 10  Embarked   891 non-null    object \n",
      " 11  Deck       891 non-null    int64  \n",
      " 12  relatives  891 non-null    int64  \n",
      " 13  not_alone  891 non-null    int64  \n",
      " 14  Title      891 non-null    int64  \n",
      "dtypes: float64(2), int64(8), object(5)\n",
      "memory usage: 104.5+ KB\n"
     ]
    }
   ],
   "source": [
    "train.info()"
   ]
  },
  {
   "cell_type": "markdown",
   "metadata": {
    "papermill": {
     "duration": 0.048204,
     "end_time": "2021-02-14T16:50:15.182587",
     "exception": false,
     "start_time": "2021-02-14T16:50:15.134383",
     "status": "completed"
    },
    "tags": []
   },
   "source": [
    "We have four features that are categorical in nature (Dtype object) and fare is float type. We need to transform our variables. We will drop features that we do not need anymore."
   ]
  },
  {
   "cell_type": "code",
   "execution_count": 19,
   "metadata": {
    "execution": {
     "iopub.execute_input": "2021-02-14T16:50:15.292180Z",
     "iopub.status.busy": "2021-02-14T16:50:15.291334Z",
     "iopub.status.idle": "2021-02-14T16:50:15.314608Z",
     "shell.execute_reply": "2021-02-14T16:50:15.315086Z"
    },
    "papermill": {
     "duration": 0.084131,
     "end_time": "2021-02-14T16:50:15.315317",
     "exception": false,
     "start_time": "2021-02-14T16:50:15.231186",
     "status": "completed"
    },
    "tags": []
   },
   "outputs": [],
   "source": [
    "# Transform categorical variables to numeric variables\n",
    "train['Sex'] = train['Sex'].map({'male': 0, 'female': 1})\n",
    "train['Embarked'] = train['Embarked'].map({'S': 0, 'C': 1, 'Q': 2})\n",
    "\n",
    "test['Sex'] = test['Sex'].map({'male': 0, 'female': 1})\n",
    "test['Embarked'] = test['Embarked'].map({'S': 0, 'C': 1, 'Q': 2})\n",
    "\n",
    "#convert Fare and Age from flaot to integer type\n",
    "cols = ['Fare', 'Age']\n",
    "train[cols] = train[cols].fillna(0)\n",
    "test[cols] = test[cols].fillna(0)\n",
    "\n",
    "train[cols] = train[cols].applymap(np.int64)\n",
    "test[cols] = test[cols].applymap(np.int64)\n",
    "\n",
    "#drop name, ticket  and cabin from the dataset\n",
    "train = train.drop(['Name', 'Ticket', 'Cabin'], axis=1)\n",
    "test = test.drop(['Name', 'Ticket', 'Cabin'], axis=1)"
   ]
  },
  {
   "cell_type": "code",
   "execution_count": 20,
   "metadata": {
    "execution": {
     "iopub.execute_input": "2021-02-14T16:50:15.429195Z",
     "iopub.status.busy": "2021-02-14T16:50:15.428501Z",
     "iopub.status.idle": "2021-02-14T16:50:15.432871Z",
     "shell.execute_reply": "2021-02-14T16:50:15.432222Z"
    },
    "papermill": {
     "duration": 0.067947,
     "end_time": "2021-02-14T16:50:15.433041",
     "exception": false,
     "start_time": "2021-02-14T16:50:15.365094",
     "status": "completed"
    },
    "tags": []
   },
   "outputs": [
    {
     "name": "stdout",
     "output_type": "stream",
     "text": [
      "<class 'pandas.core.frame.DataFrame'>\n",
      "RangeIndex: 891 entries, 0 to 890\n",
      "Data columns (total 12 columns):\n",
      " #   Column     Non-Null Count  Dtype\n",
      "---  ------     --------------  -----\n",
      " 0   Survived   891 non-null    int64\n",
      " 1   Pclass     891 non-null    int64\n",
      " 2   Sex        891 non-null    int64\n",
      " 3   Age        891 non-null    int64\n",
      " 4   SibSp      891 non-null    int64\n",
      " 5   Parch      891 non-null    int64\n",
      " 6   Fare       891 non-null    int64\n",
      " 7   Embarked   891 non-null    int64\n",
      " 8   Deck       891 non-null    int64\n",
      " 9   relatives  891 non-null    int64\n",
      " 10  not_alone  891 non-null    int64\n",
      " 11  Title      891 non-null    int64\n",
      "dtypes: int64(12)\n",
      "memory usage: 83.7 KB\n"
     ]
    }
   ],
   "source": [
    "train.info()"
   ]
  },
  {
   "cell_type": "markdown",
   "metadata": {
    "papermill": {
     "duration": 0.049558,
     "end_time": "2021-02-14T16:50:15.532052",
     "exception": false,
     "start_time": "2021-02-14T16:50:15.482494",
     "status": "completed"
    },
    "tags": []
   },
   "source": [
    "# Scaling Dataset"
   ]
  },
  {
   "cell_type": "code",
   "execution_count": 21,
   "metadata": {
    "execution": {
     "iopub.execute_input": "2021-02-14T16:50:15.640796Z",
     "iopub.status.busy": "2021-02-14T16:50:15.640027Z",
     "iopub.status.idle": "2021-02-14T16:50:15.661962Z",
     "shell.execute_reply": "2021-02-14T16:50:15.661350Z"
    },
    "papermill": {
     "duration": 0.080205,
     "end_time": "2021-02-14T16:50:15.662131",
     "exception": false,
     "start_time": "2021-02-14T16:50:15.581926",
     "status": "completed"
    },
    "tags": []
   },
   "outputs": [
    {
     "data": {
      "text/html": [
       "<div>\n",
       "<style scoped>\n",
       "    .dataframe tbody tr th:only-of-type {\n",
       "        vertical-align: middle;\n",
       "    }\n",
       "\n",
       "    .dataframe tbody tr th {\n",
       "        vertical-align: top;\n",
       "    }\n",
       "\n",
       "    .dataframe thead th {\n",
       "        text-align: right;\n",
       "    }\n",
       "</style>\n",
       "<table border=\"1\" class=\"dataframe\">\n",
       "  <thead>\n",
       "    <tr style=\"text-align: right;\">\n",
       "      <th></th>\n",
       "      <th>Pclass</th>\n",
       "      <th>Sex</th>\n",
       "      <th>Age</th>\n",
       "      <th>SibSp</th>\n",
       "      <th>Parch</th>\n",
       "      <th>Fare</th>\n",
       "      <th>Embarked</th>\n",
       "      <th>Deck</th>\n",
       "      <th>relatives</th>\n",
       "      <th>not_alone</th>\n",
       "      <th>Title</th>\n",
       "    </tr>\n",
       "  </thead>\n",
       "  <tbody>\n",
       "    <tr>\n",
       "      <th>331</th>\n",
       "      <td>-1.566107</td>\n",
       "      <td>-0.737695</td>\n",
       "      <td>1.150861</td>\n",
       "      <td>-0.474545</td>\n",
       "      <td>-0.473674</td>\n",
       "      <td>-0.076207</td>\n",
       "      <td>-0.571933</td>\n",
       "      <td>-1.898603</td>\n",
       "      <td>-0.560975</td>\n",
       "      <td>0.811922</td>\n",
       "      <td>-0.707550</td>\n",
       "    </tr>\n",
       "    <tr>\n",
       "      <th>733</th>\n",
       "      <td>-0.369365</td>\n",
       "      <td>-0.737695</td>\n",
       "      <td>-0.476550</td>\n",
       "      <td>-0.474545</td>\n",
       "      <td>-0.473674</td>\n",
       "      <td>-0.378164</td>\n",
       "      <td>-0.571933</td>\n",
       "      <td>0.513224</td>\n",
       "      <td>-0.560975</td>\n",
       "      <td>0.811922</td>\n",
       "      <td>-0.707550</td>\n",
       "    </tr>\n",
       "    <tr>\n",
       "      <th>382</th>\n",
       "      <td>0.827377</td>\n",
       "      <td>-0.737695</td>\n",
       "      <td>0.189209</td>\n",
       "      <td>-0.474545</td>\n",
       "      <td>-0.473674</td>\n",
       "      <td>-0.498948</td>\n",
       "      <td>-0.571933</td>\n",
       "      <td>0.513224</td>\n",
       "      <td>-0.560975</td>\n",
       "      <td>0.811922</td>\n",
       "      <td>-0.707550</td>\n",
       "    </tr>\n",
       "    <tr>\n",
       "      <th>704</th>\n",
       "      <td>0.827377</td>\n",
       "      <td>-0.737695</td>\n",
       "      <td>-0.254631</td>\n",
       "      <td>0.432793</td>\n",
       "      <td>-0.473674</td>\n",
       "      <td>-0.498948</td>\n",
       "      <td>-0.571933</td>\n",
       "      <td>0.513224</td>\n",
       "      <td>0.059160</td>\n",
       "      <td>-1.231645</td>\n",
       "      <td>-0.707550</td>\n",
       "    </tr>\n",
       "    <tr>\n",
       "      <th>813</th>\n",
       "      <td>0.827377</td>\n",
       "      <td>1.355574</td>\n",
       "      <td>-1.734095</td>\n",
       "      <td>3.154809</td>\n",
       "      <td>2.008933</td>\n",
       "      <td>-0.015815</td>\n",
       "      <td>-0.571933</td>\n",
       "      <td>0.513224</td>\n",
       "      <td>3.159833</td>\n",
       "      <td>-1.231645</td>\n",
       "      <td>0.263832</td>\n",
       "    </tr>\n",
       "  </tbody>\n",
       "</table>\n",
       "</div>"
      ],
      "text/plain": [
       "       Pclass       Sex       Age     SibSp     Parch      Fare  Embarked  \\\n",
       "331 -1.566107 -0.737695  1.150861 -0.474545 -0.473674 -0.076207 -0.571933   \n",
       "733 -0.369365 -0.737695 -0.476550 -0.474545 -0.473674 -0.378164 -0.571933   \n",
       "382  0.827377 -0.737695  0.189209 -0.474545 -0.473674 -0.498948 -0.571933   \n",
       "704  0.827377 -0.737695 -0.254631  0.432793 -0.473674 -0.498948 -0.571933   \n",
       "813  0.827377  1.355574 -1.734095  3.154809  2.008933 -0.015815 -0.571933   \n",
       "\n",
       "         Deck  relatives  not_alone     Title  \n",
       "331 -1.898603  -0.560975   0.811922 -0.707550  \n",
       "733  0.513224  -0.560975   0.811922 -0.707550  \n",
       "382  0.513224  -0.560975   0.811922 -0.707550  \n",
       "704  0.513224   0.059160  -1.231645 -0.707550  \n",
       "813  0.513224   3.159833  -1.231645  0.263832  "
      ]
     },
     "execution_count": 21,
     "metadata": {},
     "output_type": "execute_result"
    }
   ],
   "source": [
    "from sklearn.model_selection import train_test_split\n",
    "\n",
    "X = train.drop(['Survived'], 1)\n",
    "Y = train['Survived']\n",
    "\n",
    "#scale data because we need all variables to be on the same scale when paing to the model\n",
    "sc = StandardScaler()\n",
    "X = pd.DataFrame(sc.fit_transform(X.values), index=X.index, columns=X.columns)\n",
    "    \n",
    "# Split dataset for model testing\n",
    "X_train, X_test, Y_train, Y_test = train_test_split(X, Y, test_size=0.2, random_state=42)\n",
    "\n",
    "X_train.head()"
   ]
  },
  {
   "cell_type": "markdown",
   "metadata": {
    "papermill": {
     "duration": 0.049756,
     "end_time": "2021-02-14T16:50:15.762561",
     "exception": false,
     "start_time": "2021-02-14T16:50:15.712805",
     "status": "completed"
    },
    "tags": []
   },
   "source": [
    "# Modeling \n"
   ]
  },
  {
   "cell_type": "markdown",
   "metadata": {
    "papermill": {
     "duration": 0.049455,
     "end_time": "2021-02-14T16:50:15.862755",
     "exception": false,
     "start_time": "2021-02-14T16:50:15.813300",
     "status": "completed"
    },
    "tags": []
   },
   "source": [
    "Trying several models"
   ]
  },
  {
   "cell_type": "markdown",
   "metadata": {
    "papermill": {
     "duration": 0.049685,
     "end_time": "2021-02-14T16:50:15.961989",
     "exception": false,
     "start_time": "2021-02-14T16:50:15.912304",
     "status": "completed"
    },
    "tags": []
   },
   "source": [
    "# Logistic Regression\n",
    "We'll start with logistic regression because it is one of the simplest and most basic model used for testing. "
   ]
  },
  {
   "cell_type": "code",
   "execution_count": 22,
   "metadata": {
    "execution": {
     "iopub.execute_input": "2021-02-14T16:50:16.070957Z",
     "iopub.status.busy": "2021-02-14T16:50:16.070196Z",
     "iopub.status.idle": "2021-02-14T16:50:16.089427Z",
     "shell.execute_reply": "2021-02-14T16:50:16.090190Z"
    },
    "papermill": {
     "duration": 0.077643,
     "end_time": "2021-02-14T16:50:16.090433",
     "exception": false,
     "start_time": "2021-02-14T16:50:16.012790",
     "status": "completed"
    },
    "tags": []
   },
   "outputs": [
    {
     "name": "stdout",
     "output_type": "stream",
     "text": [
      "81.88\n"
     ]
    }
   ],
   "source": [
    "logreg = LogisticRegression()\n",
    "logreg.fit(X_train, Y_train)\n",
    "\n",
    "Y_pred = logreg.predict(X_test)\n",
    "\n",
    "acc_log = round(logreg.score(X_train, Y_train) * 100, 2)\n",
    "print(acc_log)"
   ]
  },
  {
   "cell_type": "markdown",
   "metadata": {
    "papermill": {
     "duration": 0.049521,
     "end_time": "2021-02-14T16:50:16.190841",
     "exception": false,
     "start_time": "2021-02-14T16:50:16.141320",
     "status": "completed"
    },
    "tags": []
   },
   "source": [
    "# K Nearest Neighbor"
   ]
  },
  {
   "cell_type": "code",
   "execution_count": 23,
   "metadata": {
    "execution": {
     "iopub.execute_input": "2021-02-14T16:50:16.295099Z",
     "iopub.status.busy": "2021-02-14T16:50:16.294495Z",
     "iopub.status.idle": "2021-02-14T16:50:16.353195Z",
     "shell.execute_reply": "2021-02-14T16:50:16.352267Z"
    },
    "papermill": {
     "duration": 0.111809,
     "end_time": "2021-02-14T16:50:16.353394",
     "exception": false,
     "start_time": "2021-02-14T16:50:16.241585",
     "status": "completed"
    },
    "tags": []
   },
   "outputs": [
    {
     "name": "stdout",
     "output_type": "stream",
     "text": [
      "88.06\n"
     ]
    }
   ],
   "source": [
    "# KNN \n",
    "knn = KNeighborsClassifier(n_neighbors = 3) \n",
    "knn.fit(X_train, Y_train)  \n",
    "Y_pred = knn.predict(X_test)  \n",
    "acc_knn = round(knn.score(X_train, Y_train) * 100, 2)\n",
    "print(acc_knn)"
   ]
  },
  {
   "cell_type": "markdown",
   "metadata": {
    "papermill": {
     "duration": 0.051867,
     "end_time": "2021-02-14T16:50:16.455900",
     "exception": false,
     "start_time": "2021-02-14T16:50:16.404033",
     "status": "completed"
    },
    "tags": []
   },
   "source": [
    "# Gaussain Naive Bayes"
   ]
  },
  {
   "cell_type": "code",
   "execution_count": 24,
   "metadata": {
    "execution": {
     "iopub.execute_input": "2021-02-14T16:50:16.566638Z",
     "iopub.status.busy": "2021-02-14T16:50:16.565517Z",
     "iopub.status.idle": "2021-02-14T16:50:16.577501Z",
     "shell.execute_reply": "2021-02-14T16:50:16.577967Z"
    },
    "papermill": {
     "duration": 0.071273,
     "end_time": "2021-02-14T16:50:16.578177",
     "exception": false,
     "start_time": "2021-02-14T16:50:16.506904",
     "status": "completed"
    },
    "tags": []
   },
   "outputs": [
    {
     "name": "stdout",
     "output_type": "stream",
     "text": [
      "79.07\n"
     ]
    }
   ],
   "source": [
    "gaussian = GaussianNB() \n",
    "gaussian.fit(X_train, Y_train)  \n",
    "Y_pred = gaussian.predict(X_test)  \n",
    "acc_gauss = round(gaussian.score(X_train, Y_train) * 100, 2)\n",
    "print(acc_gauss)"
   ]
  },
  {
   "cell_type": "markdown",
   "metadata": {
    "papermill": {
     "duration": 0.050349,
     "end_time": "2021-02-14T16:50:16.680366",
     "exception": false,
     "start_time": "2021-02-14T16:50:16.630017",
     "status": "completed"
    },
    "tags": []
   },
   "source": [
    "# Linear Support Vector Machine\n"
   ]
  },
  {
   "cell_type": "code",
   "execution_count": 25,
   "metadata": {
    "execution": {
     "iopub.execute_input": "2021-02-14T16:50:16.792545Z",
     "iopub.status.busy": "2021-02-14T16:50:16.791582Z",
     "iopub.status.idle": "2021-02-14T16:50:16.896669Z",
     "shell.execute_reply": "2021-02-14T16:50:16.896097Z"
    },
    "papermill": {
     "duration": 0.165796,
     "end_time": "2021-02-14T16:50:16.896838",
     "exception": false,
     "start_time": "2021-02-14T16:50:16.731042",
     "status": "completed"
    },
    "tags": []
   },
   "outputs": [
    {
     "name": "stdout",
     "output_type": "stream",
     "text": [
      "84.83\n"
     ]
    }
   ],
   "source": [
    "from sklearn.svm import SVC\n",
    "\n",
    "SVMC = SVC(probability=True, kernel='rbf')\n",
    "SVMC.fit(X_train, Y_train)\n",
    "\n",
    "Y_pred = SVMC.predict(X_test)\n",
    "\n",
    "acc_svc = round(SVMC.score(X_train, Y_train) * 100, 2)\n",
    "print(acc_svc)"
   ]
  },
  {
   "cell_type": "markdown",
   "metadata": {
    "papermill": {
     "duration": 0.053057,
     "end_time": "2021-02-14T16:50:17.003007",
     "exception": false,
     "start_time": "2021-02-14T16:50:16.949950",
     "status": "completed"
    },
    "tags": []
   },
   "source": [
    "# Decision Tree"
   ]
  },
  {
   "cell_type": "code",
   "execution_count": 26,
   "metadata": {
    "execution": {
     "iopub.execute_input": "2021-02-14T16:50:17.118574Z",
     "iopub.status.busy": "2021-02-14T16:50:17.117606Z",
     "iopub.status.idle": "2021-02-14T16:50:17.130783Z",
     "shell.execute_reply": "2021-02-14T16:50:17.130069Z"
    },
    "papermill": {
     "duration": 0.074343,
     "end_time": "2021-02-14T16:50:17.130957",
     "exception": false,
     "start_time": "2021-02-14T16:50:17.056614",
     "status": "completed"
    },
    "tags": []
   },
   "outputs": [
    {
     "name": "stdout",
     "output_type": "stream",
     "text": [
      "96.77\n"
     ]
    }
   ],
   "source": [
    "decision_tree = DecisionTreeClassifier() \n",
    "decision_tree.fit(X_train, Y_train)  \n",
    "Y_pred = decision_tree.predict(X_test)  \n",
    "acc_decision_tree = round(decision_tree.score(X_train, Y_train) * 100, 2)\n",
    "print(acc_decision_tree)"
   ]
  },
  {
   "cell_type": "markdown",
   "metadata": {
    "papermill": {
     "duration": 0.053882,
     "end_time": "2021-02-14T16:50:17.237279",
     "exception": false,
     "start_time": "2021-02-14T16:50:17.183397",
     "status": "completed"
    },
    "tags": []
   },
   "source": [
    "# Random Forest"
   ]
  },
  {
   "cell_type": "code",
   "execution_count": 27,
   "metadata": {
    "execution": {
     "iopub.execute_input": "2021-02-14T16:50:17.355379Z",
     "iopub.status.busy": "2021-02-14T16:50:17.354400Z",
     "iopub.status.idle": "2021-02-14T16:50:17.617718Z",
     "shell.execute_reply": "2021-02-14T16:50:17.618880Z"
    },
    "papermill": {
     "duration": 0.328007,
     "end_time": "2021-02-14T16:50:17.619293",
     "exception": false,
     "start_time": "2021-02-14T16:50:17.291286",
     "status": "completed"
    },
    "tags": []
   },
   "outputs": [
    {
     "name": "stdout",
     "output_type": "stream",
     "text": [
      "96.77\n"
     ]
    }
   ],
   "source": [
    "random_forest = RandomForestClassifier(n_estimators=100)\n",
    "random_forest.fit(X_train, Y_train)\n",
    "\n",
    "Y_prediction = random_forest.predict(X_test)\n",
    "\n",
    "acc_random_forest = round(random_forest.score(X_train, Y_train) * 100, 2)\n",
    "\n",
    "print(acc_random_forest)"
   ]
  },
  {
   "cell_type": "markdown",
   "metadata": {
    "papermill": {
     "duration": 0.053294,
     "end_time": "2021-02-14T16:50:17.727011",
     "exception": false,
     "start_time": "2021-02-14T16:50:17.673717",
     "status": "completed"
    },
    "tags": []
   },
   "source": [
    "# XGBoost"
   ]
  },
  {
   "cell_type": "code",
   "execution_count": 28,
   "metadata": {
    "execution": {
     "iopub.execute_input": "2021-02-14T16:50:17.843361Z",
     "iopub.status.busy": "2021-02-14T16:50:17.842688Z",
     "iopub.status.idle": "2021-02-14T16:50:18.278951Z",
     "shell.execute_reply": "2021-02-14T16:50:18.279594Z"
    },
    "papermill": {
     "duration": 0.493046,
     "end_time": "2021-02-14T16:50:18.279841",
     "exception": false,
     "start_time": "2021-02-14T16:50:17.786795",
     "status": "completed"
    },
    "tags": []
   },
   "outputs": [
    {
     "name": "stdout",
     "output_type": "stream",
     "text": [
      "[16:50:18] WARNING: ../src/learner.cc:1061: Starting in XGBoost 1.3.0, the default evaluation metric used with the objective 'binary:logistic' was changed from 'error' to 'logloss'. Explicitly set eval_metric if you'd like to restore the old behavior.\n",
      "95.79\n"
     ]
    }
   ],
   "source": [
    "from xgboost import XGBClassifier\n",
    "xgb = XGBClassifier(random_state =1)\n",
    "\n",
    "xgb.fit(X_train, Y_train)\n",
    "\n",
    "y_pred = xgb.predict(X_test)\n",
    "acc_xgb = round(xgb.score(X_train, Y_train) * 100, 2)\n",
    "print(acc_xgb)"
   ]
  },
  {
   "cell_type": "markdown",
   "metadata": {
    "papermill": {
     "duration": 0.052792,
     "end_time": "2021-02-14T16:50:18.387773",
     "exception": false,
     "start_time": "2021-02-14T16:50:18.334981",
     "status": "completed"
    },
    "tags": []
   },
   "source": [
    "# Finding the best model \n"
   ]
  },
  {
   "cell_type": "code",
   "execution_count": 29,
   "metadata": {
    "execution": {
     "iopub.execute_input": "2021-02-14T16:50:18.508822Z",
     "iopub.status.busy": "2021-02-14T16:50:18.508135Z",
     "iopub.status.idle": "2021-02-14T16:50:18.511893Z",
     "shell.execute_reply": "2021-02-14T16:50:18.512527Z"
    },
    "papermill": {
     "duration": 0.071788,
     "end_time": "2021-02-14T16:50:18.512729",
     "exception": false,
     "start_time": "2021-02-14T16:50:18.440941",
     "status": "completed"
    },
    "tags": []
   },
   "outputs": [
    {
     "data": {
      "text/html": [
       "<div>\n",
       "<style scoped>\n",
       "    .dataframe tbody tr th:only-of-type {\n",
       "        vertical-align: middle;\n",
       "    }\n",
       "\n",
       "    .dataframe tbody tr th {\n",
       "        vertical-align: top;\n",
       "    }\n",
       "\n",
       "    .dataframe thead th {\n",
       "        text-align: right;\n",
       "    }\n",
       "</style>\n",
       "<table border=\"1\" class=\"dataframe\">\n",
       "  <thead>\n",
       "    <tr style=\"text-align: right;\">\n",
       "      <th></th>\n",
       "      <th>Model</th>\n",
       "    </tr>\n",
       "    <tr>\n",
       "      <th>Score</th>\n",
       "      <th></th>\n",
       "    </tr>\n",
       "  </thead>\n",
       "  <tbody>\n",
       "    <tr>\n",
       "      <th>96.77</th>\n",
       "      <td>Random Forest</td>\n",
       "    </tr>\n",
       "    <tr>\n",
       "      <th>96.77</th>\n",
       "      <td>Decision Tree</td>\n",
       "    </tr>\n",
       "    <tr>\n",
       "      <th>95.79</th>\n",
       "      <td>XGBoost</td>\n",
       "    </tr>\n",
       "    <tr>\n",
       "      <th>88.06</th>\n",
       "      <td>KNN</td>\n",
       "    </tr>\n",
       "    <tr>\n",
       "      <th>84.83</th>\n",
       "      <td>Support Vector Machines</td>\n",
       "    </tr>\n",
       "    <tr>\n",
       "      <th>81.88</th>\n",
       "      <td>Logistic Regression</td>\n",
       "    </tr>\n",
       "    <tr>\n",
       "      <th>79.07</th>\n",
       "      <td>Naive Bayes</td>\n",
       "    </tr>\n",
       "  </tbody>\n",
       "</table>\n",
       "</div>"
      ],
      "text/plain": [
       "                         Model\n",
       "Score                         \n",
       "96.77            Random Forest\n",
       "96.77            Decision Tree\n",
       "95.79                  XGBoost\n",
       "88.06                      KNN\n",
       "84.83  Support Vector Machines\n",
       "81.88      Logistic Regression\n",
       "79.07              Naive Bayes"
      ]
     },
     "execution_count": 29,
     "metadata": {},
     "output_type": "execute_result"
    }
   ],
   "source": [
    "results = pd.DataFrame({\n",
    "    'Model': ['Support Vector Machines', 'KNN', 'Logistic Regression', \n",
    "              'Random Forest', 'Naive Bayes', 'XGBoost', \n",
    "              'Decision Tree'],\n",
    "    'Score': [acc_svc, acc_knn, acc_log, acc_random_forest, acc_gauss, acc_xgb,acc_decision_tree]})\n",
    "\n",
    "result_df = results.sort_values(by='Score', ascending=False)\n",
    "result_df = result_df.set_index('Score')\n",
    "result_df.head(7)"
   ]
  },
  {
   "cell_type": "markdown",
   "metadata": {
    "papermill": {
     "duration": 0.053216,
     "end_time": "2021-02-14T16:50:18.618655",
     "exception": false,
     "start_time": "2021-02-14T16:50:18.565439",
     "status": "completed"
    },
    "tags": []
   },
   "source": [
    "As expected, random forest outperforms all of the other algorithms while naive baes is at bottom of the list. "
   ]
  },
  {
   "cell_type": "markdown",
   "metadata": {
    "papermill": {
     "duration": 0.053385,
     "end_time": "2021-02-14T16:50:18.725013",
     "exception": false,
     "start_time": "2021-02-14T16:50:18.671628",
     "status": "completed"
    },
    "tags": []
   },
   "source": [
    "# Finding the best model using k-folds cross validation \n",
    "The above results are the baseline scores and they could be probaby be improved with cross validation method, which consists of dividing the training set in k parts (folds) and evaluating k times using successively each part as the test set and the 9 other parts as the training set. Therefore, we can compute a mean error over the 10 trainings of our model.  Cross validation will verify which model has the best accuracy over several training steps. \n",
    "Let's find out which algorithm performs better. "
   ]
  },
  {
   "cell_type": "code",
   "execution_count": 30,
   "metadata": {
    "execution": {
     "iopub.execute_input": "2021-02-14T16:50:18.838402Z",
     "iopub.status.busy": "2021-02-14T16:50:18.837578Z",
     "iopub.status.idle": "2021-02-14T16:51:14.056039Z",
     "shell.execute_reply": "2021-02-14T16:51:14.055406Z"
    },
    "papermill": {
     "duration": 55.276086,
     "end_time": "2021-02-14T16:51:14.056267",
     "exception": false,
     "start_time": "2021-02-14T16:50:18.780181",
     "status": "completed"
    },
    "tags": []
   },
   "outputs": [],
   "source": [
    "from sklearn.model_selection import cross_val_score\n",
    "\n",
    "n_folds = 5\n",
    "cv_score_lg = cross_val_score(estimator=logreg, X=X_train, y=Y_train, cv=n_folds, n_jobs=-1)\n",
    "cv_score_dt = cross_val_score(estimator=decision_tree, X=X_train, y=Y_train, cv=n_folds, n_jobs=-1)\n",
    "cv_score_svm = cross_val_score(estimator=SVMC, X=X_train, y=Y_train, cv=n_folds, n_jobs=-1)\n",
    "cv_score_rf = cross_val_score(estimator=random_forest, X=X_train, y=Y_train, cv=n_folds, n_jobs=-1)\n",
    "cv_score_xgb = cross_val_score(estimator=xgb, X=X_train, y=Y_train, cv=n_folds, n_jobs=-1)\n",
    "cv_score_nb = cross_val_score(estimator=gaussian, X=X_train, y=Y_train, cv=n_folds, n_jobs=-1)\n",
    "cv_score_knn = cross_val_score(estimator=knn, X=X_train, y=Y_train, cv=n_folds, n_jobs=-1)"
   ]
  },
  {
   "cell_type": "code",
   "execution_count": 31,
   "metadata": {
    "execution": {
     "iopub.execute_input": "2021-02-14T16:51:14.188631Z",
     "iopub.status.busy": "2021-02-14T16:51:14.187735Z",
     "iopub.status.idle": "2021-02-14T16:51:14.193155Z",
     "shell.execute_reply": "2021-02-14T16:51:14.192398Z"
    },
    "papermill": {
     "duration": 0.079479,
     "end_time": "2021-02-14T16:51:14.193321",
     "exception": false,
     "start_time": "2021-02-14T16:51:14.113842",
     "status": "completed"
    },
    "tags": []
   },
   "outputs": [
    {
     "data": {
      "text/html": [
       "<div>\n",
       "<style scoped>\n",
       "    .dataframe tbody tr th:only-of-type {\n",
       "        vertical-align: middle;\n",
       "    }\n",
       "\n",
       "    .dataframe tbody tr th {\n",
       "        vertical-align: top;\n",
       "    }\n",
       "\n",
       "    .dataframe thead th {\n",
       "        text-align: right;\n",
       "    }\n",
       "</style>\n",
       "<table border=\"1\" class=\"dataframe\">\n",
       "  <thead>\n",
       "    <tr style=\"text-align: right;\">\n",
       "      <th></th>\n",
       "      <th>lg</th>\n",
       "      <th>dt</th>\n",
       "      <th>svm</th>\n",
       "      <th>rf</th>\n",
       "      <th>XGB</th>\n",
       "      <th>NB</th>\n",
       "      <th>knn</th>\n",
       "    </tr>\n",
       "  </thead>\n",
       "  <tbody>\n",
       "    <tr>\n",
       "      <th>Mean_accuracy</th>\n",
       "      <td>0.811770</td>\n",
       "      <td>0.773860</td>\n",
       "      <td>0.832798</td>\n",
       "      <td>0.803368</td>\n",
       "      <td>0.807564</td>\n",
       "      <td>0.773771</td>\n",
       "      <td>0.811790</td>\n",
       "    </tr>\n",
       "    <tr>\n",
       "      <th>Variance</th>\n",
       "      <td>0.021765</td>\n",
       "      <td>0.019772</td>\n",
       "      <td>0.022865</td>\n",
       "      <td>0.018346</td>\n",
       "      <td>0.011719</td>\n",
       "      <td>0.034880</td>\n",
       "      <td>0.013748</td>\n",
       "    </tr>\n",
       "  </tbody>\n",
       "</table>\n",
       "</div>"
      ],
      "text/plain": [
       "                     lg        dt       svm        rf       XGB        NB  \\\n",
       "Mean_accuracy  0.811770  0.773860  0.832798  0.803368  0.807564  0.773771   \n",
       "Variance       0.021765  0.019772  0.022865  0.018346  0.011719  0.034880   \n",
       "\n",
       "                    knn  \n",
       "Mean_accuracy  0.811790  \n",
       "Variance       0.013748  "
      ]
     },
     "execution_count": 31,
     "metadata": {},
     "output_type": "execute_result"
    }
   ],
   "source": [
    "cv_result = {'lg': cv_score_lg, 'dt': cv_score_dt, 'svm': cv_score_svm, 'rf': cv_score_rf, \n",
    "             'XGB': cv_score_xgb,'NB': cv_score_nb , 'knn': cv_score_knn}\n",
    "cv_data = {model: [score.mean(), score.std()] for model, score in cv_result.items()}\n",
    "cv_df = pd.DataFrame(cv_data, index=['Mean_accuracy', 'Variance'])\n",
    "cv_df"
   ]
  },
  {
   "cell_type": "code",
   "execution_count": 32,
   "metadata": {
    "execution": {
     "iopub.execute_input": "2021-02-14T16:51:14.313450Z",
     "iopub.status.busy": "2021-02-14T16:51:14.312653Z",
     "iopub.status.idle": "2021-02-14T16:51:14.592653Z",
     "shell.execute_reply": "2021-02-14T16:51:14.593463Z"
    },
    "papermill": {
     "duration": 0.345978,
     "end_time": "2021-02-14T16:51:14.593776",
     "exception": false,
     "start_time": "2021-02-14T16:51:14.247798",
     "status": "completed"
    },
    "tags": []
   },
   "outputs": [
    {
     "data": {
      "image/png": "[encoded data removed]",
      "text/plain": [
       "<Figure size 1440x576 with 1 Axes>"
      ]
     },
     "metadata": {
      "needs_background": "light"
     },
     "output_type": "display_data"
    }
   ],
   "source": [
    "plt.figure(figsize=(20,8))\n",
    "plt.plot(cv_result['lg'])\n",
    "plt.plot(cv_result['dt'])\n",
    "plt.plot(cv_result['svm'])\n",
    "plt.plot(cv_result['rf'])\n",
    "plt.plot(cv_result['XGB'])\n",
    "plt.plot(cv_result['NB'])\n",
    "plt.plot(cv_result['knn'])\n",
    "\n",
    "\n",
    "plt.title('Models Accuracy')\n",
    "plt.ylabel('Accuracy')\n",
    "plt.xlabel('Trained fold')\n",
    "plt.xticks([k for k in range(n_folds)])\n",
    "plt.legend(['logreg', 'tree', 'randomforest', 'knn', 'svm','NB', 'xGB'], loc='upper left')\n",
    "plt.show()"
   ]
  },
  {
   "cell_type": "markdown",
   "metadata": {
    "papermill": {
     "duration": 0.057564,
     "end_time": "2021-02-14T16:51:14.712045",
     "exception": false,
     "start_time": "2021-02-14T16:51:14.654481",
     "status": "completed"
    },
    "tags": []
   },
   "source": [
    "All models seems to have a good accuracy and nearly the same variance, it seems that there is no \"best model\". From this I cannot conclude which model performs best because te differene is very little. \n",
    "To improve the performance we could also do some sort of ensemble learning. Let's try that."
   ]
  },
  {
   "cell_type": "markdown",
   "metadata": {
    "papermill": {
     "duration": 0.060507,
     "end_time": "2021-02-14T16:51:14.834801",
     "exception": false,
     "start_time": "2021-02-14T16:51:14.774294",
     "status": "completed"
    },
    "tags": []
   },
   "source": [
    "# Ensemble Learning"
   ]
  },
  {
   "cell_type": "markdown",
   "metadata": {
    "papermill": {
     "duration": 0.059611,
     "end_time": "2021-02-14T16:51:14.955620",
     "exception": false,
     "start_time": "2021-02-14T16:51:14.896009",
     "status": "completed"
    },
    "tags": []
   },
   "source": [
    "Ensembling is the technique of combining differnet classifiers to improve the accuracy of a model. It alsi helps in diminushing the variance of our model making it more reliable. So basically ensembling/combining two or more algorithms could improve or boost your performance.\n",
    "\n",
    "I decided to use the SVC, xGBoost, random forest, knn for the ensemble learning.\n",
    "I chose a voting classifier to combine the predictions coming from the 4 classifiers.\n",
    "I exerimented with both the 'soft' and 'hard' voting parameter. I've also experimented withh all classifiers. "
   ]
  },
  {
   "cell_type": "code",
   "execution_count": 33,
   "metadata": {
    "collapsed": true,
    "execution": {
     "iopub.execute_input": "2021-02-14T16:51:15.079453Z",
     "iopub.status.busy": "2021-02-14T16:51:15.078597Z",
     "iopub.status.idle": "2021-02-14T16:51:31.634019Z",
     "shell.execute_reply": "2021-02-14T16:51:31.634797Z"
    },
    "papermill": {
     "duration": 16.619998,
     "end_time": "2021-02-14T16:51:31.635028",
     "exception": false,
     "start_time": "2021-02-14T16:51:15.015030",
     "status": "completed"
    },
    "tags": []
   },
   "outputs": [
    {
     "name": "stdout",
     "output_type": "stream",
     "text": [
      "[16:51:15] WARNING: ../src/learner.cc:1061: Starting in XGBoost 1.3.0, the default evaluation metric used with the objective 'binary:logistic' was changed from 'error' to 'logloss'. Explicitly set eval_metric if you'd like to restore the old behavior.\n",
      "[16:51:15] WARNING: ../src/learner.cc:1061: Starting in XGBoost 1.3.0, the default evaluation metric used with the objective 'binary:logistic' was changed from 'error' to 'logloss'. Explicitly set eval_metric if you'd like to restore the old behavior.\n",
      "[16:51:16] WARNING: ../src/learner.cc:1061: Starting in XGBoost 1.3.0, the default evaluation metric used with the objective 'binary:logistic' was changed from 'error' to 'logloss'. Explicitly set eval_metric if you'd like to restore the old behavior.\n",
      "[16:51:16] WARNING: ../src/learner.cc:1061: Starting in XGBoost 1.3.0, the default evaluation metric used with the objective 'binary:logistic' was changed from 'error' to 'logloss'. Explicitly set eval_metric if you'd like to restore the old behavior.\n",
      "[16:51:17] WARNING: ../src/learner.cc:1061: Starting in XGBoost 1.3.0, the default evaluation metric used with the objective 'binary:logistic' was changed from 'error' to 'logloss'. Explicitly set eval_metric if you'd like to restore the old behavior.\n",
      "[16:51:17] WARNING: ../src/learner.cc:1061: Starting in XGBoost 1.3.0, the default evaluation metric used with the objective 'binary:logistic' was changed from 'error' to 'logloss'. Explicitly set eval_metric if you'd like to restore the old behavior.\n",
      "[16:51:17] WARNING: ../src/learner.cc:1061: Starting in XGBoost 1.3.0, the default evaluation metric used with the objective 'binary:logistic' was changed from 'error' to 'logloss'. Explicitly set eval_metric if you'd like to restore the old behavior.\n",
      "[16:51:18] WARNING: ../src/learner.cc:1061: Starting in XGBoost 1.3.0, the default evaluation metric used with the objective 'binary:logistic' was changed from 'error' to 'logloss'. Explicitly set eval_metric if you'd like to restore the old behavior.\n",
      "[16:51:18] WARNING: ../src/learner.cc:1061: Starting in XGBoost 1.3.0, the default evaluation metric used with the objective 'binary:logistic' was changed from 'error' to 'logloss'. Explicitly set eval_metric if you'd like to restore the old behavior.\n",
      "[16:51:19] WARNING: ../src/learner.cc:1061: Starting in XGBoost 1.3.0, the default evaluation metric used with the objective 'binary:logistic' was changed from 'error' to 'logloss'. Explicitly set eval_metric if you'd like to restore the old behavior.\n",
      "[16:51:19] WARNING: ../src/learner.cc:1061: Starting in XGBoost 1.3.0, the default evaluation metric used with the objective 'binary:logistic' was changed from 'error' to 'logloss'. Explicitly set eval_metric if you'd like to restore the old behavior.\n",
      "[16:51:19] WARNING: ../src/learner.cc:1061: Starting in XGBoost 1.3.0, the default evaluation metric used with the objective 'binary:logistic' was changed from 'error' to 'logloss'. Explicitly set eval_metric if you'd like to restore the old behavior.\n",
      "[16:51:20] WARNING: ../src/learner.cc:1061: Starting in XGBoost 1.3.0, the default evaluation metric used with the objective 'binary:logistic' was changed from 'error' to 'logloss'. Explicitly set eval_metric if you'd like to restore the old behavior.\n",
      "[16:51:20] WARNING: ../src/learner.cc:1061: Starting in XGBoost 1.3.0, the default evaluation metric used with the objective 'binary:logistic' was changed from 'error' to 'logloss'. Explicitly set eval_metric if you'd like to restore the old behavior.\n",
      "[16:51:21] WARNING: ../src/learner.cc:1061: Starting in XGBoost 1.3.0, the default evaluation metric used with the objective 'binary:logistic' was changed from 'error' to 'logloss'. Explicitly set eval_metric if you'd like to restore the old behavior.\n",
      "[16:51:21] WARNING: ../src/learner.cc:1061: Starting in XGBoost 1.3.0, the default evaluation metric used with the objective 'binary:logistic' was changed from 'error' to 'logloss'. Explicitly set eval_metric if you'd like to restore the old behavior.\n",
      "[16:51:21] WARNING: ../src/learner.cc:1061: Starting in XGBoost 1.3.0, the default evaluation metric used with the objective 'binary:logistic' was changed from 'error' to 'logloss'. Explicitly set eval_metric if you'd like to restore the old behavior.\n",
      "[16:51:22] WARNING: ../src/learner.cc:1061: Starting in XGBoost 1.3.0, the default evaluation metric used with the objective 'binary:logistic' was changed from 'error' to 'logloss'. Explicitly set eval_metric if you'd like to restore the old behavior.\n",
      "[16:51:22] WARNING: ../src/learner.cc:1061: Starting in XGBoost 1.3.0, the default evaluation metric used with the objective 'binary:logistic' was changed from 'error' to 'logloss'. Explicitly set eval_metric if you'd like to restore the old behavior.\n",
      "[16:51:23] WARNING: ../src/learner.cc:1061: Starting in XGBoost 1.3.0, the default evaluation metric used with the objective 'binary:logistic' was changed from 'error' to 'logloss'. Explicitly set eval_metric if you'd like to restore the old behavior.\n",
      "[16:51:23] WARNING: ../src/learner.cc:1061: Starting in XGBoost 1.3.0, the default evaluation metric used with the objective 'binary:logistic' was changed from 'error' to 'logloss'. Explicitly set eval_metric if you'd like to restore the old behavior.\n",
      "[16:51:23] WARNING: ../src/learner.cc:1061: Starting in XGBoost 1.3.0, the default evaluation metric used with the objective 'binary:logistic' was changed from 'error' to 'logloss'. Explicitly set eval_metric if you'd like to restore the old behavior.\n",
      "[16:51:24] WARNING: ../src/learner.cc:1061: Starting in XGBoost 1.3.0, the default evaluation metric used with the objective 'binary:logistic' was changed from 'error' to 'logloss'. Explicitly set eval_metric if you'd like to restore the old behavior.\n",
      "[16:51:24] WARNING: ../src/learner.cc:1061: Starting in XGBoost 1.3.0, the default evaluation metric used with the objective 'binary:logistic' was changed from 'error' to 'logloss'. Explicitly set eval_metric if you'd like to restore the old behavior.\n",
      "[16:51:25] WARNING: ../src/learner.cc:1061: Starting in XGBoost 1.3.0, the default evaluation metric used with the objective 'binary:logistic' was changed from 'error' to 'logloss'. Explicitly set eval_metric if you'd like to restore the old behavior.\n",
      "[16:51:25] WARNING: ../src/learner.cc:1061: Starting in XGBoost 1.3.0, the default evaluation metric used with the objective 'binary:logistic' was changed from 'error' to 'logloss'. Explicitly set eval_metric if you'd like to restore the old behavior.\n",
      "[16:51:26] WARNING: ../src/learner.cc:1061: Starting in XGBoost 1.3.0, the default evaluation metric used with the objective 'binary:logistic' was changed from 'error' to 'logloss'. Explicitly set eval_metric if you'd like to restore the old behavior.\n",
      "[16:51:26] WARNING: ../src/learner.cc:1061: Starting in XGBoost 1.3.0, the default evaluation metric used with the objective 'binary:logistic' was changed from 'error' to 'logloss'. Explicitly set eval_metric if you'd like to restore the old behavior.\n",
      "[16:51:26] WARNING: ../src/learner.cc:1061: Starting in XGBoost 1.3.0, the default evaluation metric used with the objective 'binary:logistic' was changed from 'error' to 'logloss'. Explicitly set eval_metric if you'd like to restore the old behavior.\n",
      "[16:51:27] WARNING: ../src/learner.cc:1061: Starting in XGBoost 1.3.0, the default evaluation metric used with the objective 'binary:logistic' was changed from 'error' to 'logloss'. Explicitly set eval_metric if you'd like to restore the old behavior.\n",
      "[16:51:27] WARNING: ../src/learner.cc:1061: Starting in XGBoost 1.3.0, the default evaluation metric used with the objective 'binary:logistic' was changed from 'error' to 'logloss'. Explicitly set eval_metric if you'd like to restore the old behavior.\n",
      "[16:51:28] WARNING: ../src/learner.cc:1061: Starting in XGBoost 1.3.0, the default evaluation metric used with the objective 'binary:logistic' was changed from 'error' to 'logloss'. Explicitly set eval_metric if you'd like to restore the old behavior.\n",
      "[16:51:28] WARNING: ../src/learner.cc:1061: Starting in XGBoost 1.3.0, the default evaluation metric used with the objective 'binary:logistic' was changed from 'error' to 'logloss'. Explicitly set eval_metric if you'd like to restore the old behavior.\n",
      "[16:51:28] WARNING: ../src/learner.cc:1061: Starting in XGBoost 1.3.0, the default evaluation metric used with the objective 'binary:logistic' was changed from 'error' to 'logloss'. Explicitly set eval_metric if you'd like to restore the old behavior.\n",
      "[16:51:29] WARNING: ../src/learner.cc:1061: Starting in XGBoost 1.3.0, the default evaluation metric used with the objective 'binary:logistic' was changed from 'error' to 'logloss'. Explicitly set eval_metric if you'd like to restore the old behavior.\n",
      "[16:51:29] WARNING: ../src/learner.cc:1061: Starting in XGBoost 1.3.0, the default evaluation metric used with the objective 'binary:logistic' was changed from 'error' to 'logloss'. Explicitly set eval_metric if you'd like to restore the old behavior.\n",
      "[16:51:30] WARNING: ../src/learner.cc:1061: Starting in XGBoost 1.3.0, the default evaluation metric used with the objective 'binary:logistic' was changed from 'error' to 'logloss'. Explicitly set eval_metric if you'd like to restore the old behavior.\n",
      "[16:51:30] WARNING: ../src/learner.cc:1061: Starting in XGBoost 1.3.0, the default evaluation metric used with the objective 'binary:logistic' was changed from 'error' to 'logloss'. Explicitly set eval_metric if you'd like to restore the old behavior.\n",
      "[16:51:31] WARNING: ../src/learner.cc:1061: Starting in XGBoost 1.3.0, the default evaluation metric used with the objective 'binary:logistic' was changed from 'error' to 'logloss'. Explicitly set eval_metric if you'd like to restore the old behavior.\n",
      "[16:51:31] WARNING: ../src/learner.cc:1061: Starting in XGBoost 1.3.0, the default evaluation metric used with the objective 'binary:logistic' was changed from 'error' to 'logloss'. Explicitly set eval_metric if you'd like to restore the old behavior.\n"
     ]
    }
   ],
   "source": [
    "from sklearn.ensemble import VotingClassifier\n",
    "\n",
    "voting_hard = VotingClassifier(estimators = [('knn',knn),('rf',random_forest),('svc',SVMC),\n",
    "                                            ('xGB', xgb)], voting = 'hard') \n",
    "voting_soft = VotingClassifier(estimators = [('knn',knn),('rf',random_forest),('svc',SVMC),\n",
    "                                            ('xGB', xgb)], voting = 'soft') \n",
    "\n",
    "voting_all_soft = VotingClassifier(estimators = [('knn',knn),('rf',random_forest),('svc',SVMC),\n",
    "                                            ('xGB', xgb), ('DT', decision_tree), ('LogReg', logreg),\n",
    "                                          ('NB', gaussian)], voting = 'soft')\n",
    "\n",
    "voting_all_hard = VotingClassifier(estimators = [('knn',knn),('rf',random_forest),('svc',SVMC),\n",
    "                                            ('xGB', xgb), ('DT', decision_tree), ('LogReg', logreg),\n",
    "                                          ('NB', gaussian)], voting = 'hard')\n",
    "score={}\n",
    "\n",
    "score['voting_hard:'] = (cross_val_score(voting_hard,X_train,Y_train,cv=n_folds))\n",
    "score['voting_hard mean:']= (cross_val_score(voting_hard,X_train,Y_train,cv=n_folds).mean())\n",
    "\n",
    "score['voting_soft :']=(cross_val_score(voting_soft,X_train,Y_train,cv=n_folds))\n",
    "score['voting_soft mean :']=(cross_val_score(voting_soft,X_train,Y_train,cv=n_folds).mean())\n",
    "\n",
    "score['voting_all_soft :']=(cross_val_score(voting_all_soft,X_train,Y_train,cv=n_folds))\n",
    "score['voting_all_soft mean :']=(cross_val_score(voting_all_soft,X_train,Y_train,cv=n_folds).mean())\n",
    "\n",
    "score['voting_all_hard :']=(cross_val_score(voting_all_hard,X_train,Y_train,cv=n_folds))\n",
    "score['voting_all_hard mean :']=(cross_val_score(voting_all_hard,X_train,Y_train,cv=n_folds).mean())"
   ]
  },
  {
   "cell_type": "markdown",
   "metadata": {
    "papermill": {
     "duration": 0.068186,
     "end_time": "2021-02-14T16:51:31.773324",
     "exception": false,
     "start_time": "2021-02-14T16:51:31.705138",
     "status": "completed"
    },
    "tags": []
   },
   "source": [
    "# Results"
   ]
  },
  {
   "cell_type": "code",
   "execution_count": 34,
   "metadata": {
    "execution": {
     "iopub.execute_input": "2021-02-14T16:51:31.918436Z",
     "iopub.status.busy": "2021-02-14T16:51:31.917273Z",
     "iopub.status.idle": "2021-02-14T16:51:31.922258Z",
     "shell.execute_reply": "2021-02-14T16:51:31.921735Z"
    },
    "papermill": {
     "duration": 0.080107,
     "end_time": "2021-02-14T16:51:31.922405",
     "exception": false,
     "start_time": "2021-02-14T16:51:31.842298",
     "status": "completed"
    },
    "tags": []
   },
   "outputs": [
    {
     "name": "stdout",
     "output_type": "stream",
     "text": [
      "voting_hard: [0.83216783 0.83216783 0.79577465 0.80985915 0.85211268]\n",
      "voting_hard mean: 0.8272234807446075\n",
      "voting_soft : [0.82517483 0.83916084 0.80985915 0.82394366 0.84507042]\n",
      "voting_soft mean : 0.8300403821530582\n",
      "voting_all_soft : [0.83216783 0.83916084 0.80985915 0.81690141 0.83098592]\n",
      "voting_all_soft mean : 0.8258051807347583\n",
      "voting_all_hard : [0.85314685 0.83916084 0.80985915 0.80985915 0.82394366]\n",
      "voting_all_hard mean : 0.8314192849404115\n"
     ]
    }
   ],
   "source": [
    "# print each data item. \n",
    "for key, value in score.items(): \n",
    "    print (\"{} {}\".format(key, value))"
   ]
  },
  {
   "cell_type": "code",
   "execution_count": 35,
   "metadata": {
    "collapsed": true,
    "execution": {
     "iopub.execute_input": "2021-02-14T16:51:32.072206Z",
     "iopub.status.busy": "2021-02-14T16:51:32.071316Z",
     "iopub.status.idle": "2021-02-14T16:51:32.075877Z",
     "shell.execute_reply": "2021-02-14T16:51:32.075239Z"
    },
    "papermill": {
     "duration": 0.084024,
     "end_time": "2021-02-14T16:51:32.076045",
     "exception": false,
     "start_time": "2021-02-14T16:51:31.992021",
     "status": "completed"
    },
    "tags": []
   },
   "outputs": [],
   "source": [
    "# scale test dataset\n",
    "test.drop(labels = [\"PassengerId\"], axis = 1, inplace = True)\n",
    "\n",
    "test = pd.DataFrame(sc.fit_transform(test.values), index=test.index, columns=test.columns)"
   ]
  },
  {
   "cell_type": "code",
   "execution_count": 36,
   "metadata": {
    "execution": {
     "iopub.execute_input": "2021-02-14T16:51:32.232947Z",
     "iopub.status.busy": "2021-02-14T16:51:32.226695Z",
     "iopub.status.idle": "2021-02-14T16:51:32.240547Z",
     "shell.execute_reply": "2021-02-14T16:51:32.239978Z"
    },
    "papermill": {
     "duration": 0.094495,
     "end_time": "2021-02-14T16:51:32.240692",
     "exception": false,
     "start_time": "2021-02-14T16:51:32.146197",
     "status": "completed"
    },
    "tags": []
   },
   "outputs": [
    {
     "data": {
      "text/html": [
       "<div>\n",
       "<style scoped>\n",
       "    .dataframe tbody tr th:only-of-type {\n",
       "        vertical-align: middle;\n",
       "    }\n",
       "\n",
       "    .dataframe tbody tr th {\n",
       "        vertical-align: top;\n",
       "    }\n",
       "\n",
       "    .dataframe thead th {\n",
       "        text-align: right;\n",
       "    }\n",
       "</style>\n",
       "<table border=\"1\" class=\"dataframe\">\n",
       "  <thead>\n",
       "    <tr style=\"text-align: right;\">\n",
       "      <th></th>\n",
       "      <th>Pclass</th>\n",
       "      <th>Sex</th>\n",
       "      <th>Age</th>\n",
       "      <th>SibSp</th>\n",
       "      <th>Parch</th>\n",
       "      <th>Fare</th>\n",
       "      <th>Embarked</th>\n",
       "      <th>Deck</th>\n",
       "      <th>relatives</th>\n",
       "      <th>not_alone</th>\n",
       "      <th>Title</th>\n",
       "    </tr>\n",
       "  </thead>\n",
       "  <tbody>\n",
       "    <tr>\n",
       "      <th>0</th>\n",
       "      <td>0.873482</td>\n",
       "      <td>-0.755929</td>\n",
       "      <td>0.348138</td>\n",
       "      <td>-0.499470</td>\n",
       "      <td>-0.400248</td>\n",
       "      <td>-0.504085</td>\n",
       "      <td>2.243165</td>\n",
       "      <td>0.500456</td>\n",
       "      <td>-0.553443</td>\n",
       "      <td>0.807573</td>\n",
       "      <td>-0.738020</td>\n",
       "    </tr>\n",
       "    <tr>\n",
       "      <th>1</th>\n",
       "      <td>0.873482</td>\n",
       "      <td>1.322876</td>\n",
       "      <td>1.348023</td>\n",
       "      <td>0.616992</td>\n",
       "      <td>-0.400248</td>\n",
       "      <td>-0.504085</td>\n",
       "      <td>-0.677841</td>\n",
       "      <td>0.500456</td>\n",
       "      <td>0.105643</td>\n",
       "      <td>-1.238278</td>\n",
       "      <td>1.252253</td>\n",
       "    </tr>\n",
       "    <tr>\n",
       "      <th>2</th>\n",
       "      <td>-0.315819</td>\n",
       "      <td>-0.755929</td>\n",
       "      <td>2.501737</td>\n",
       "      <td>-0.499470</td>\n",
       "      <td>-0.400248</td>\n",
       "      <td>-0.468238</td>\n",
       "      <td>2.243165</td>\n",
       "      <td>0.500456</td>\n",
       "      <td>-0.553443</td>\n",
       "      <td>0.807573</td>\n",
       "      <td>-0.738020</td>\n",
       "    </tr>\n",
       "    <tr>\n",
       "      <th>3</th>\n",
       "      <td>0.873482</td>\n",
       "      <td>-0.755929</td>\n",
       "      <td>-0.190262</td>\n",
       "      <td>-0.499470</td>\n",
       "      <td>-0.400248</td>\n",
       "      <td>-0.486162</td>\n",
       "      <td>-0.677841</td>\n",
       "      <td>0.500456</td>\n",
       "      <td>-0.553443</td>\n",
       "      <td>0.807573</td>\n",
       "      <td>-0.738020</td>\n",
       "    </tr>\n",
       "    <tr>\n",
       "      <th>4</th>\n",
       "      <td>0.873482</td>\n",
       "      <td>1.322876</td>\n",
       "      <td>-0.574833</td>\n",
       "      <td>0.616992</td>\n",
       "      <td>0.619896</td>\n",
       "      <td>-0.414468</td>\n",
       "      <td>-0.677841</td>\n",
       "      <td>0.500456</td>\n",
       "      <td>0.764728</td>\n",
       "      <td>-1.238278</td>\n",
       "      <td>1.252253</td>\n",
       "    </tr>\n",
       "    <tr>\n",
       "      <th>5</th>\n",
       "      <td>0.873482</td>\n",
       "      <td>-0.755929</td>\n",
       "      <td>-1.190147</td>\n",
       "      <td>-0.499470</td>\n",
       "      <td>-0.400248</td>\n",
       "      <td>-0.468238</td>\n",
       "      <td>-0.677841</td>\n",
       "      <td>0.500456</td>\n",
       "      <td>-0.553443</td>\n",
       "      <td>0.807573</td>\n",
       "      <td>-0.738020</td>\n",
       "    </tr>\n",
       "    <tr>\n",
       "      <th>6</th>\n",
       "      <td>0.873482</td>\n",
       "      <td>1.322876</td>\n",
       "      <td>0.040481</td>\n",
       "      <td>-0.499470</td>\n",
       "      <td>-0.400248</td>\n",
       "      <td>-0.504085</td>\n",
       "      <td>2.243165</td>\n",
       "      <td>0.500456</td>\n",
       "      <td>-0.553443</td>\n",
       "      <td>0.807573</td>\n",
       "      <td>0.257117</td>\n",
       "    </tr>\n",
       "    <tr>\n",
       "      <th>7</th>\n",
       "      <td>-0.315819</td>\n",
       "      <td>-0.755929</td>\n",
       "      <td>-0.267176</td>\n",
       "      <td>0.616992</td>\n",
       "      <td>0.619896</td>\n",
       "      <td>-0.109770</td>\n",
       "      <td>-0.677841</td>\n",
       "      <td>0.500456</td>\n",
       "      <td>0.764728</td>\n",
       "      <td>-1.238278</td>\n",
       "      <td>-0.738020</td>\n",
       "    </tr>\n",
       "    <tr>\n",
       "      <th>8</th>\n",
       "      <td>0.873482</td>\n",
       "      <td>1.322876</td>\n",
       "      <td>-0.882490</td>\n",
       "      <td>-0.499470</td>\n",
       "      <td>-0.400248</td>\n",
       "      <td>-0.504085</td>\n",
       "      <td>0.782662</td>\n",
       "      <td>0.500456</td>\n",
       "      <td>-0.553443</td>\n",
       "      <td>0.807573</td>\n",
       "      <td>1.252253</td>\n",
       "    </tr>\n",
       "    <tr>\n",
       "      <th>9</th>\n",
       "      <td>0.873482</td>\n",
       "      <td>-0.755929</td>\n",
       "      <td>-0.651747</td>\n",
       "      <td>1.733455</td>\n",
       "      <td>-0.400248</td>\n",
       "      <td>-0.199387</td>\n",
       "      <td>-0.677841</td>\n",
       "      <td>0.500456</td>\n",
       "      <td>0.764728</td>\n",
       "      <td>-1.238278</td>\n",
       "      <td>-0.738020</td>\n",
       "    </tr>\n",
       "  </tbody>\n",
       "</table>\n",
       "</div>"
      ],
      "text/plain": [
       "     Pclass       Sex       Age     SibSp     Parch      Fare  Embarked  \\\n",
       "0  0.873482 -0.755929  0.348138 -0.499470 -0.400248 -0.504085  2.243165   \n",
       "1  0.873482  1.322876  1.348023  0.616992 -0.400248 -0.504085 -0.677841   \n",
       "2 -0.315819 -0.755929  2.501737 -0.499470 -0.400248 -0.468238  2.243165   \n",
       "3  0.873482 -0.755929 -0.190262 -0.499470 -0.400248 -0.486162 -0.677841   \n",
       "4  0.873482  1.322876 -0.574833  0.616992  0.619896 -0.414468 -0.677841   \n",
       "5  0.873482 -0.755929 -1.190147 -0.499470 -0.400248 -0.468238 -0.677841   \n",
       "6  0.873482  1.322876  0.040481 -0.499470 -0.400248 -0.504085  2.243165   \n",
       "7 -0.315819 -0.755929 -0.267176  0.616992  0.619896 -0.109770 -0.677841   \n",
       "8  0.873482  1.322876 -0.882490 -0.499470 -0.400248 -0.504085  0.782662   \n",
       "9  0.873482 -0.755929 -0.651747  1.733455 -0.400248 -0.199387 -0.677841   \n",
       "\n",
       "       Deck  relatives  not_alone     Title  \n",
       "0  0.500456  -0.553443   0.807573 -0.738020  \n",
       "1  0.500456   0.105643  -1.238278  1.252253  \n",
       "2  0.500456  -0.553443   0.807573 -0.738020  \n",
       "3  0.500456  -0.553443   0.807573 -0.738020  \n",
       "4  0.500456   0.764728  -1.238278  1.252253  \n",
       "5  0.500456  -0.553443   0.807573 -0.738020  \n",
       "6  0.500456  -0.553443   0.807573  0.257117  \n",
       "7  0.500456   0.764728  -1.238278 -0.738020  \n",
       "8  0.500456  -0.553443   0.807573  1.252253  \n",
       "9  0.500456   0.764728  -1.238278 -0.738020  "
      ]
     },
     "execution_count": 36,
     "metadata": {},
     "output_type": "execute_result"
    }
   ],
   "source": [
    "test.head(10)"
   ]
  },
  {
   "cell_type": "code",
   "execution_count": 37,
   "metadata": {
    "collapsed": true,
    "execution": {
     "iopub.execute_input": "2021-02-14T16:51:32.397746Z",
     "iopub.status.busy": "2021-02-14T16:51:32.394062Z",
     "iopub.status.idle": "2021-02-14T16:51:34.322097Z",
     "shell.execute_reply": "2021-02-14T16:51:34.321543Z"
    },
    "papermill": {
     "duration": 2.011297,
     "end_time": "2021-02-14T16:51:34.322279",
     "exception": false,
     "start_time": "2021-02-14T16:51:32.310982",
     "status": "completed"
    },
    "tags": []
   },
   "outputs": [
    {
     "name": "stdout",
     "output_type": "stream",
     "text": [
      "[16:51:32] WARNING: ../src/learner.cc:1061: Starting in XGBoost 1.3.0, the default evaluation metric used with the objective 'binary:logistic' was changed from 'error' to 'logloss'. Explicitly set eval_metric if you'd like to restore the old behavior.\n",
      "[16:51:33] WARNING: ../src/learner.cc:1061: Starting in XGBoost 1.3.0, the default evaluation metric used with the objective 'binary:logistic' was changed from 'error' to 'logloss'. Explicitly set eval_metric if you'd like to restore the old behavior.\n",
      "[16:51:33] WARNING: ../src/learner.cc:1061: Starting in XGBoost 1.3.0, the default evaluation metric used with the objective 'binary:logistic' was changed from 'error' to 'logloss'. Explicitly set eval_metric if you'd like to restore the old behavior.\n",
      "[16:51:33] WARNING: ../src/learner.cc:1061: Starting in XGBoost 1.3.0, the default evaluation metric used with the objective 'binary:logistic' was changed from 'error' to 'logloss'. Explicitly set eval_metric if you'd like to restore the old behavior.\n"
     ]
    }
   ],
   "source": [
    "#fit models\n",
    "voting_hard.fit(X_train,Y_train)\n",
    "voting_soft.fit(X_train,Y_train)\n",
    "voting_all_soft.fit(X_train,Y_train)\n",
    "voting_all_hard.fit(X_train,Y_train)\n",
    "\n",
    "# Predict for test data sample\n",
    "pred_hard=voting_hard.predict(test)\n",
    "pred_soft=voting_soft.predict(test)\n",
    "pred_allsoft=voting_all_soft.predict(test)\n",
    "pred_allhard=voting_all_hard.predict(test)\n",
    "\n",
    "#convert output to dataframe \n",
    "final_data = {'PassengerId': test_raw.PassengerId, 'Survived': pred_hard}\n",
    "submission = pd.DataFrame(data=final_data)\n",
    "\n",
    "final_data_2 = {'PassengerId': test_raw.PassengerId, 'Survived': pred_soft}\n",
    "submission_2 = pd.DataFrame(data=final_data_2)\n",
    "\n",
    "final_data_3 = {'PassengerId': test_raw.PassengerId, 'Survived': pred_allsoft}\n",
    "submission_3 = pd.DataFrame(data=final_data_3)\n",
    "\n",
    "final_data_4 = {'PassengerId': test_raw.PassengerId, 'Survived': pred_allhard}\n",
    "submission_4 = pd.DataFrame(data=final_data_4)\n",
    "\n",
    "#convert to csv\n",
    "submission.to_csv('Hard Voting.csv', index =False)\n",
    "submission_2.to_csv('Soft Voting.csv',index=False)\n",
    "submission_3.to_csv('soft_all.csv', index=False)\n",
    "submission_4.to_csv('hard_all.csv', index=False)"
   ]
  },
  {
   "cell_type": "code",
   "execution_count": 38,
   "metadata": {
    "execution": {
     "iopub.execute_input": "2021-02-14T16:51:34.476942Z",
     "iopub.status.busy": "2021-02-14T16:51:34.476225Z",
     "iopub.status.idle": "2021-02-14T16:51:34.479597Z",
     "shell.execute_reply": "2021-02-14T16:51:34.480165Z"
    },
    "papermill": {
     "duration": 0.086184,
     "end_time": "2021-02-14T16:51:34.480376",
     "exception": false,
     "start_time": "2021-02-14T16:51:34.394192",
     "status": "completed"
    },
    "tags": []
   },
   "outputs": [
    {
     "data": {
      "text/html": [
       "<div>\n",
       "<style scoped>\n",
       "    .dataframe tbody tr th:only-of-type {\n",
       "        vertical-align: middle;\n",
       "    }\n",
       "\n",
       "    .dataframe tbody tr th {\n",
       "        vertical-align: top;\n",
       "    }\n",
       "\n",
       "    .dataframe thead th {\n",
       "        text-align: right;\n",
       "    }\n",
       "</style>\n",
       "<table border=\"1\" class=\"dataframe\">\n",
       "  <thead>\n",
       "    <tr style=\"text-align: right;\">\n",
       "      <th></th>\n",
       "      <th>PassengerId</th>\n",
       "      <th>Survived</th>\n",
       "    </tr>\n",
       "  </thead>\n",
       "  <tbody>\n",
       "    <tr>\n",
       "      <th>0</th>\n",
       "      <td>892</td>\n",
       "      <td>0</td>\n",
       "    </tr>\n",
       "    <tr>\n",
       "      <th>1</th>\n",
       "      <td>893</td>\n",
       "      <td>0</td>\n",
       "    </tr>\n",
       "    <tr>\n",
       "      <th>2</th>\n",
       "      <td>894</td>\n",
       "      <td>0</td>\n",
       "    </tr>\n",
       "    <tr>\n",
       "      <th>3</th>\n",
       "      <td>895</td>\n",
       "      <td>1</td>\n",
       "    </tr>\n",
       "    <tr>\n",
       "      <th>4</th>\n",
       "      <td>896</td>\n",
       "      <td>1</td>\n",
       "    </tr>\n",
       "    <tr>\n",
       "      <th>5</th>\n",
       "      <td>897</td>\n",
       "      <td>0</td>\n",
       "    </tr>\n",
       "    <tr>\n",
       "      <th>6</th>\n",
       "      <td>898</td>\n",
       "      <td>1</td>\n",
       "    </tr>\n",
       "    <tr>\n",
       "      <th>7</th>\n",
       "      <td>899</td>\n",
       "      <td>0</td>\n",
       "    </tr>\n",
       "    <tr>\n",
       "      <th>8</th>\n",
       "      <td>900</td>\n",
       "      <td>1</td>\n",
       "    </tr>\n",
       "    <tr>\n",
       "      <th>9</th>\n",
       "      <td>901</td>\n",
       "      <td>0</td>\n",
       "    </tr>\n",
       "  </tbody>\n",
       "</table>\n",
       "</div>"
      ],
      "text/plain": [
       "   PassengerId  Survived\n",
       "0          892         0\n",
       "1          893         0\n",
       "2          894         0\n",
       "3          895         1\n",
       "4          896         1\n",
       "5          897         0\n",
       "6          898         1\n",
       "7          899         0\n",
       "8          900         1\n",
       "9          901         0"
      ]
     },
     "execution_count": 38,
     "metadata": {},
     "output_type": "execute_result"
    }
   ],
   "source": [
    "submission_4.head(10)"
   ]
  },
  {
   "cell_type": "markdown",
   "metadata": {
    "papermill": {
     "duration": 0.074675,
     "end_time": "2021-02-14T16:51:34.630504",
     "exception": false,
     "start_time": "2021-02-14T16:51:34.555829",
     "status": "completed"
    },
    "tags": []
   },
   "source": [
    "Thank you for your reading, feel free to fork this kernel and improve it. There is still room for improvement, like doing a more extensive feature engineering, by comparing and plotting the features against each other and identifying and removing the noisy features. Another thing that can improve the overall result on the kaggle leaderboard would be a more extensive hyperparameter tuning on several machine learning models."
   ]
  },
  {
   "cell_type": "markdown",
   "metadata": {
    "papermill": {
     "duration": 0.071985,
     "end_time": "2021-02-14T16:51:34.775017",
     "exception": false,
     "start_time": "2021-02-14T16:51:34.703032",
     "status": "completed"
    },
    "tags": []
   },
   "source": [
    "If you found this notebook helpful or you just liked it , some upvotes would be very much appreciated."
   ]
  },
  {
   "cell_type": "code",
   "execution_count": null,
   "metadata": {
    "papermill": {
     "duration": 0.07293,
     "end_time": "2021-02-14T16:51:34.921026",
     "exception": false,
     "start_time": "2021-02-14T16:51:34.848096",
     "status": "completed"
    },
    "tags": []
   },
   "outputs": [],
   "source": []
  }
 ],
 "metadata": {
  "kernelspec": {
   "display_name": "Python 3",
   "language": "python",
   "name": "python3"
  },
  "language_info": {
   "codemirror_mode": {
    "name": "ipython",
    "version": 3
   },
   "file_extension": ".py",
   "mimetype": "text/x-python",
   "name": "python",
   "nbconvert_exporter": "python",
   "pygments_lexer": "ipython3",
   "version": "3.7.9"
  },
  "papermill": {
   "default_parameters": {},
   "duration": 95.17501,
   "end_time": "2021-02-14T16:51:36.207417",
   "environment_variables": {},
   "exception": null,
   "input_path": "__notebook__.ipynb",
   "output_path": "__notebook__.ipynb",
   "parameters": {},
   "start_time": "2021-02-14T16:50:01.032407",
   "version": "2.2.2"
  }
 },
 "nbformat": 4,
 "nbformat_minor": 4
}
